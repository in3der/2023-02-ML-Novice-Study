{
  "cells": [
    {
      "cell_type": "markdown",
      "metadata": {
        "id": "view-in-github",
        "colab_type": "text"
      },
      "source": [
        "<a href=\"https://colab.research.google.com/github/in3der/2023-02-ML-Novice-Study/blob/main/%5BMLNovice%5D%EC%B5%9C%EC%84%B8%EC%9D%B8_week2.ipynb\" target=\"_parent\"><img src=\"https://colab.research.google.com/assets/colab-badge.svg\" alt=\"Open In Colab\"/></a>"
      ]
    },
    {
      "cell_type": "markdown",
      "metadata": {
        "id": "LGYbZJQsfa4_"
      },
      "source": [
        "# k-최근접 이웃 회귀"
      ]
    },
    {
      "cell_type": "markdown",
      "metadata": {
        "id": "lpY20cgOfa5C"
      },
      "source": [
        "<table align=\"left\">\n",
        "  <td>\n",
        "    <a target=\"_blank\" href=\"https://colab.research.google.com/github/rickiepark/hg-mldl/blob/master/3-1.ipynb\"><img src=\"https://www.tensorflow.org/images/colab_logo_32px.png\" />구글 코랩에서 실행하기</a>\n",
        "  </td>\n",
        "</table>"
      ]
    },
    {
      "cell_type": "markdown",
      "metadata": {
        "id": "i5J2cFzCrDWT"
      },
      "source": [
        "## 데이터 준비"
      ]
    },
    {
      "cell_type": "markdown",
      "source": [
        "## K- 최근접 이웃 분류 알고리즘\n",
        "* 분류일 때\n",
        "1. 예측하려는 샘플에 가장 가까운 샘플 k개를 선택한다 ( 이것은 알고리즘 시행 이전에 미리 사용자가 지정해야 한다.)\n",
        "2. 샘플들의 클래스를 확인하여 다수의 클래스를 새로운 샘플의 클래스로 예측한다.\n",
        "3. 새로운 데이터가 들어오면 새로운 데이터와 가까운 데이터가 많은 클래스가 새로운 데이터의 클래스가 된다.\n",
        "* 회귀일 때\n",
        "분류 알고리즘과 같지만\n",
        "샘플의 타깃은 어떤 클래스가 아닌 임의의 수치이다."
      ],
      "metadata": {
        "id": "5Orm2siaGVLK"
      }
    },
    {
      "cell_type": "code",
      "execution_count": null,
      "metadata": {
        "id": "fL3wuWxD0cH6"
      },
      "outputs": [],
      "source": [
        "import numpy as np"
      ]
    },
    {
      "cell_type": "code",
      "execution_count": null,
      "metadata": {
        "id": "np5j0UTtJNI_"
      },
      "outputs": [],
      "source": [
        "# 샘플 데이터 준비\n",
        "\n",
        "perch_length = np.array(\n",
        "    [8.4, 13.7, 15.0, 16.2, 17.4, 18.0, 18.7, 19.0, 19.6, 20.0,\n",
        "     21.0, 21.0, 21.0, 21.3, 22.0, 22.0, 22.0, 22.0, 22.0, 22.5,\n",
        "     22.5, 22.7, 23.0, 23.5, 24.0, 24.0, 24.6, 25.0, 25.6, 26.5,\n",
        "     27.3, 27.5, 27.5, 27.5, 28.0, 28.7, 30.0, 32.8, 34.5, 35.0,\n",
        "     36.5, 36.0, 37.0, 37.0, 39.0, 39.0, 39.0, 40.0, 40.0, 40.0,\n",
        "     40.0, 42.0, 43.0, 43.0, 43.5, 44.0]\n",
        "     )\n",
        "perch_weight = np.array(\n",
        "    [5.9, 32.0, 40.0, 51.5, 70.0, 100.0, 78.0, 80.0, 85.0, 85.0,\n",
        "     110.0, 115.0, 125.0, 130.0, 120.0, 120.0, 130.0, 135.0, 110.0,\n",
        "     130.0, 150.0, 145.0, 150.0, 170.0, 225.0, 145.0, 188.0, 180.0,\n",
        "     197.0, 218.0, 300.0, 260.0, 265.0, 250.0, 250.0, 300.0, 320.0,\n",
        "     514.0, 556.0, 840.0, 685.0, 700.0, 700.0, 690.0, 900.0, 650.0,\n",
        "     820.0, 850.0, 900.0, 1015.0, 820.0, 1100.0, 1000.0, 1100.0,\n",
        "     1000.0, 1000.0]\n",
        "     )"
      ]
    },
    {
      "cell_type": "code",
      "execution_count": null,
      "metadata": {
        "id": "cc-Fn23Q4AqQ"
      },
      "outputs": [],
      "source": [
        "import matplotlib.pyplot as plt"
      ]
    },
    {
      "cell_type": "code",
      "execution_count": null,
      "metadata": {
        "colab": {
          "base_uri": "https://localhost:8080/",
          "height": 449
        },
        "id": "gE78Nuog4Eg4",
        "outputId": "e4d4e724-059b-46bf-b2d1-05698db75c94"
      },
      "outputs": [
        {
          "output_type": "display_data",
          "data": {
            "text/plain": [
              "<Figure size 640x480 with 1 Axes>"
            ],
            "image/png": "[encoded data removed]"
          },
          "metadata": {}
        }
      ],
      "source": [
        "# 데이터의 개형을 확인하기 위해 산점도를 그림\n",
        "plt.scatter(perch_length, perch_weight)\n",
        "plt.xlabel('length')\n",
        "plt.ylabel('weight')\n",
        "plt.show()"
      ]
    },
    {
      "cell_type": "code",
      "execution_count": null,
      "metadata": {
        "id": "dqSDbM-K4pkB"
      },
      "outputs": [],
      "source": [
        "from sklearn.model_selection import train_test_split"
      ]
    },
    {
      "cell_type": "code",
      "execution_count": null,
      "metadata": {
        "id": "seEljNAS4uET"
      },
      "outputs": [],
      "source": [
        "# 앞서 준비한 data를 train set과 test set으로 나눈다.\n",
        "train_input, test_input, train_target, test_target = train_test_split(\n",
        "    perch_length, perch_weight, random_state=42)"
      ]
    },
    {
      "cell_type": "code",
      "execution_count": null,
      "metadata": {
        "colab": {
          "base_uri": "https://localhost:8080/"
        },
        "id": "sC6HAwnnK4aU",
        "outputId": "9eda8a47-96af-4fde-82c5-3075f9ec8d52"
      },
      "outputs": [
        {
          "output_type": "stream",
          "name": "stdout",
          "text": [
            "(42,) (14,)\n"
          ]
        }
      ],
      "source": [
        "# train set과 test set의 input을 확인한다.\n",
        "print(train_input.shape, test_input.shape)"
      ]
    },
    {
      "cell_type": "markdown",
      "source": [
        "* 참고!\n",
        " *사이킷런에서 사용할 훈련 세트는 2차원 배열이어야 한다. 따라서 reshape을 사용해 1차원 배열을 2차원으로 나누어야 함."
      ],
      "metadata": {
        "id": "qbCe6sApHZFp"
      }
    },
    {
      "cell_type": "code",
      "execution_count": null,
      "metadata": {
        "colab": {
          "base_uri": "https://localhost:8080/"
        },
        "id": "Og1eucsRwzIs",
        "outputId": "8ca7574e-8e2b-47ce-acba-54598eded6ff"
      },
      "outputs": [
        {
          "output_type": "stream",
          "name": "stdout",
          "text": [
            "(4,)\n"
          ]
        }
      ],
      "source": [
        "# reshape 예시\n",
        "test_array = np.array([1,2,3,4])\n",
        "print(test_array.shape)"
      ]
    },
    {
      "cell_type": "code",
      "execution_count": null,
      "metadata": {
        "colab": {
          "base_uri": "https://localhost:8080/"
        },
        "id": "y-DXX-xtw8Jb",
        "outputId": "bb84a931-8645-4f07-fa88-7e7903621763"
      },
      "outputs": [
        {
          "output_type": "stream",
          "name": "stdout",
          "text": [
            "(2, 2)\n"
          ]
        }
      ],
      "source": [
        "test_array = test_array.reshape(2, 2) # reshape하여 (2, 2)로 변환\n",
        "print(test_array.shape)"
      ]
    },
    {
      "cell_type": "code",
      "execution_count": null,
      "metadata": {
        "id": "2z-LC4zrxzWL"
      },
      "outputs": [],
      "source": [
        "# 아래 코드의 주석을 제거하고 실행하면 에러가 발생합니다\n",
        "# test_array = test_array.reshape(2, 3)"
      ]
    },
    {
      "cell_type": "markdown",
      "source": [
        "numpy 라이브러리는 배열의 크기를 자동으로 지정하는 기능을 제공한다.\n",
        "</br> 크기에 -1을 지정하면 나머지 원소 개수로 모두 채우라는 의미임.\n",
        "\n",
        "</br> 아래의 예시에서는 dataset 개수가 42개 이므로 train_input의 크기가 (42, ). 따라서\n",
        "reahspe (-1, 1)을 하면 (42, 1)이 된다."
      ],
      "metadata": {
        "id": "9qTDTyXTHpyy"
      }
    },
    {
      "cell_type": "code",
      "execution_count": null,
      "metadata": {
        "id": "_GfrND5GKg_z"
      },
      "outputs": [],
      "source": [
        "train_input = train_input.reshape(-1, 1)\n",
        "test_input = test_input.reshape(-1, 1)"
      ]
    },
    {
      "cell_type": "code",
      "execution_count": null,
      "metadata": {
        "colab": {
          "base_uri": "https://localhost:8080/"
        },
        "id": "0c8e0UrkLJDe",
        "outputId": "93e6f0e6-3c50-4cee-afa9-8cdbff50d93a"
      },
      "outputs": [
        {
          "output_type": "stream",
          "name": "stdout",
          "text": [
            "(42, 1) (14, 1)\n"
          ]
        }
      ],
      "source": [
        "print(train_input.shape, test_input.shape)"
      ]
    },
    {
      "cell_type": "markdown",
      "metadata": {
        "id": "NtmNJ7OqrKy_"
      },
      "source": [
        "## 결정 계수 ($ R^2$)"
      ]
    },
    {
      "cell_type": "code",
      "execution_count": null,
      "metadata": {
        "id": "BcPh-Da44lhx"
      },
      "outputs": [],
      "source": [
        "from sklearn.neighbors import KNeighborsRegressor\n",
        "# 사이킷런에서 k-최근접 이웃 \"회귀\" 알고리즘을 구현한 클래스임."
      ]
    },
    {
      "cell_type": "code",
      "execution_count": null,
      "metadata": {
        "colab": {
          "base_uri": "https://localhost:8080/",
          "height": 74
        },
        "id": "oe7MTnof45sP",
        "outputId": "43803aea-397c-49d3-b790-e8efb601a8a7"
      },
      "outputs": [
        {
          "output_type": "execute_result",
          "data": {
            "text/plain": [
              "KNeighborsRegressor()"
            ],
            "text/html": [
              "<style>#sk-container-id-1 {color: black;background-color: white;}#sk-container-id-1 pre{padding: 0;}#sk-container-id-1 div.sk-toggleable {background-color: white;}#sk-container-id-1 label.sk-toggleable__label {cursor: pointer;display: block;width: 100%;margin-bottom: 0;padding: 0.3em;box-sizing: border-box;text-align: center;}#sk-container-id-1 label.sk-toggleable__label-arrow:before {content: \"▸\";float: left;margin-right: 0.25em;color: #696969;}#sk-container-id-1 label.sk-toggleable__label-arrow:hover:before {color: black;}#sk-container-id-1 div.sk-estimator:hover label.sk-toggleable__label-arrow:before {color: black;}#sk-container-id-1 div.sk-toggleable__content {max-height: 0;max-width: 0;overflow: hidden;text-align: left;background-color: #f0f8ff;}#sk-container-id-1 div.sk-toggleable__content pre {margin: 0.2em;color: black;border-radius: 0.25em;background-color: #f0f8ff;}#sk-container-id-1 input.sk-toggleable__control:checked~div.sk-toggleable__content {max-height: 200px;max-width: 100%;overflow: auto;}#sk-container-id-1 input.sk-toggleable__control:checked~label.sk-toggleable__label-arrow:before {content: \"▾\";}#sk-container-id-1 div.sk-estimator input.sk-toggleable__control:checked~label.sk-toggleable__label {background-color: #d4ebff;}#sk-container-id-1 div.sk-label input.sk-toggleable__control:checked~label.sk-toggleable__label {background-color: #d4ebff;}#sk-container-id-1 input.sk-hidden--visually {border: 0;clip: rect(1px 1px 1px 1px);clip: rect(1px, 1px, 1px, 1px);height: 1px;margin: -1px;overflow: hidden;padding: 0;position: absolute;width: 1px;}#sk-container-id-1 div.sk-estimator {font-family: monospace;background-color: #f0f8ff;border: 1px dotted black;border-radius: 0.25em;box-sizing: border-box;margin-bottom: 0.5em;}#sk-container-id-1 div.sk-estimator:hover {background-color: #d4ebff;}#sk-container-id-1 div.sk-parallel-item::after {content: \"\";width: 100%;border-bottom: 1px solid gray;flex-grow: 1;}#sk-container-id-1 div.sk-label:hover label.sk-toggleable__label {background-color: #d4ebff;}#sk-container-id-1 div.sk-serial::before {content: \"\";position: absolute;border-left: 1px solid gray;box-sizing: border-box;top: 0;bottom: 0;left: 50%;z-index: 0;}#sk-container-id-1 div.sk-serial {display: flex;flex-direction: column;align-items: center;background-color: white;padding-right: 0.2em;padding-left: 0.2em;position: relative;}#sk-container-id-1 div.sk-item {position: relative;z-index: 1;}#sk-container-id-1 div.sk-parallel {display: flex;align-items: stretch;justify-content: center;background-color: white;position: relative;}#sk-container-id-1 div.sk-item::before, #sk-container-id-1 div.sk-parallel-item::before {content: \"\";position: absolute;border-left: 1px solid gray;box-sizing: border-box;top: 0;bottom: 0;left: 50%;z-index: -1;}#sk-container-id-1 div.sk-parallel-item {display: flex;flex-direction: column;z-index: 1;position: relative;background-color: white;}#sk-container-id-1 div.sk-parallel-item:first-child::after {align-self: flex-end;width: 50%;}#sk-container-id-1 div.sk-parallel-item:last-child::after {align-self: flex-start;width: 50%;}#sk-container-id-1 div.sk-parallel-item:only-child::after {width: 0;}#sk-container-id-1 div.sk-dashed-wrapped {border: 1px dashed gray;margin: 0 0.4em 0.5em 0.4em;box-sizing: border-box;padding-bottom: 0.4em;background-color: white;}#sk-container-id-1 div.sk-label label {font-family: monospace;font-weight: bold;display: inline-block;line-height: 1.2em;}#sk-container-id-1 div.sk-label-container {text-align: center;}#sk-container-id-1 div.sk-container {/* jupyter's `normalize.less` sets `[hidden] { display: none; }` but bootstrap.min.css set `[hidden] { display: none !important; }` so we also need the `!important` here to be able to override the default hidden behavior on the sphinx rendered scikit-learn.org. See: https://github.com/scikit-learn/scikit-learn/issues/21755 */display: inline-block !important;position: relative;}#sk-container-id-1 div.sk-text-repr-fallback {display: none;}</style><div id=\"sk-container-id-1\" class=\"sk-top-container\"><div class=\"sk-text-repr-fallback\"><pre>KNeighborsRegressor()</pre><b>In a Jupyter environment, please rerun this cell to show the HTML representation or trust the notebook. <br />On GitHub, the HTML representation is unable to render, please try loading this page with nbviewer.org.</b></div><div class=\"sk-container\" hidden><div class=\"sk-item\"><div class=\"sk-estimator sk-toggleable\"><input class=\"sk-toggleable__control sk-hidden--visually\" id=\"sk-estimator-id-1\" type=\"checkbox\" checked><label for=\"sk-estimator-id-1\" class=\"sk-toggleable__label sk-toggleable__label-arrow\">KNeighborsRegressor</label><div class=\"sk-toggleable__content\"><pre>KNeighborsRegressor()</pre></div></div></div></div></div>"
            ]
          },
          "metadata": {},
          "execution_count": 14
        }
      ],
      "source": [
        "knr = KNeighborsRegressor()  # 객체 생성\n",
        "\n",
        "knr.fit(train_input, train_target)  # 훈련"
      ]
    },
    {
      "cell_type": "code",
      "execution_count": null,
      "metadata": {
        "colab": {
          "base_uri": "https://localhost:8080/"
        },
        "id": "yEv88u6LIokr",
        "outputId": "6c92e932-cb2f-4ede-d5e3-4cb2d46c93e9"
      },
      "outputs": [
        {
          "output_type": "execute_result",
          "data": {
            "text/plain": [
              "0.992809406101064"
            ]
          },
          "metadata": {},
          "execution_count": 15
        }
      ],
      "source": [
        "# test set의 점수 확인\n",
        "knr.score(test_input, test_target)"
      ]
    },
    {
      "cell_type": "markdown",
      "source": [
        "위의 점수가 결정계수이다.\n",
        "- 분류의 경우\n",
        "test set에 있는 샘플을 정확하게 분류한 경우( label을 잘 맞춘 경우임)\n",
        "- 회귀의 경우\n",
        "정확한 숫자를 맞힌다는 것은 거의 불가능.\n",
        "</br> 따라서 **\"결정계수\"(coeffieicent of determination)** 를 정확도의 지표로 가진다.\n",
        "\n",
        "* 올바르게 예측한 경우 : 결정계수는 1에 가까워진다.\n",
        "* 결정계수는 0~1사이의 값을 가진다."
      ],
      "metadata": {
        "id": "9EQlYdcIIfm2"
      }
    },
    {
      "cell_type": "markdown",
      "source": [
        "![image.png](data:image/png;base64,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)"
      ],
      "metadata": {
        "id": "C56xAjzDJEgW"
      }
    },
    {
      "cell_type": "markdown",
      "source": [
        "![image.png](data:image/png;base64,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)"
      ],
      "metadata": {
        "id": "maXSfuhiJGCN"
      }
    },
    {
      "cell_type": "markdown",
      "source": [
        "### MSE\n",
        "mean_absolute_error\n",
        "타깃과 예측의 절댓값 오차를 평균하여 반환한다."
      ],
      "metadata": {
        "id": "4aqg2PYiJo7Y"
      }
    },
    {
      "cell_type": "markdown",
      "source": [
        "![image.png](data:image/png;base64,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)"
      ],
      "metadata": {
        "id": "JkEBp3xTJ2GU"
      }
    },
    {
      "cell_type": "code",
      "execution_count": null,
      "metadata": {
        "id": "R8Uju0xGLX3s"
      },
      "outputs": [],
      "source": [
        "from sklearn.metrics import mean_absolute_error"
      ]
    },
    {
      "cell_type": "code",
      "execution_count": null,
      "metadata": {
        "colab": {
          "base_uri": "https://localhost:8080/"
        },
        "id": "QKEf3y-5KVQx",
        "outputId": "7e891242-bace-4aff-8cb6-caa1a84b9fc2"
      },
      "outputs": [
        {
          "output_type": "stream",
          "name": "stdout",
          "text": [
            "19.157142857142862\n"
          ]
        }
      ],
      "source": [
        "# 테스트 세트에 대한 예측을 만듭니다\n",
        "test_prediction = knr.predict(test_input)\n",
        "# 테스트 세트에 대한 평균 절댓값 오차를 계산합니다\n",
        "mae = mean_absolute_error(test_target, test_prediction)\n",
        "print(mae)\n",
        "# 아래의 값이 19로 나옴 => 결과에서 예측이 평균적으로 19g정도 타깃값과 다르다는 것을 알 수 있다."
      ]
    },
    {
      "cell_type": "markdown",
      "source": [
        "### MSE, RMSE, MAE\n",
        "https://jysden.medium.com/%EC%96%B8%EC%A0%9C-mse-mae-rmse%EB%A5%BC-%EC%82%AC%EC%9A%A9%ED%95%98%EB%8A%94%EA%B0%80-c473bd831c62"
      ],
      "metadata": {
        "id": "m6oN2rEJKILH"
      }
    },
    {
      "cell_type": "markdown",
      "source": [
        "![image.png](data:image/png;base64,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)"
      ],
      "metadata": {
        "id": "rL5g6RXZJ_D_"
      }
    },
    {
      "cell_type": "markdown",
      "metadata": {
        "id": "pLW8kdDv5asl"
      },
      "source": [
        "## 과대적합 vs 과소적합"
      ]
    },
    {
      "cell_type": "markdown",
      "source": [
        "![image.png](data:image/png;base64,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)"
      ],
      "metadata": {
        "id": "4bAuWKnfLJcH"
      }
    },
    {
      "cell_type": "code",
      "execution_count": null,
      "metadata": {
        "colab": {
          "base_uri": "https://localhost:8080/"
        },
        "id": "ZoXIfmiAJaNw",
        "outputId": "6be2f44c-d84e-4734-f462-a219af936920"
      },
      "outputs": [
        {
          "output_type": "stream",
          "name": "stdout",
          "text": [
            "0.9698823289099254\n"
          ]
        }
      ],
      "source": [
        "# train set의 R2 square 점수를 확인한다. => test set의 점수보다 조금 높음을 확인\n",
        "# 모델을 train set의 데이터에 맞게 훈련시켰기 때문에 좀 더 높게 나온다.\n",
        "print(knr.score(train_input, train_target))"
      ]
    },
    {
      "cell_type": "markdown",
      "source": [
        "* **과대 적합 overfitting**<br>\n",
        "train set에서는 점수가 좋았으나 test set에서 점수가 굉장히 나쁜 경우\n",
        "</br>\n",
        "- **과소 적합 underfitting**<br>\n",
        "train set보다 test set에서 점수가 좋거나 두 점수가 모두 낮은 경우\n",
        "</br>모델이 너무 단순하여 훈련 세트에 적절히 훈련되지 않은 경우임."
      ],
      "metadata": {
        "id": "pdzYcIXoK6pk"
      }
    },
    {
      "cell_type": "markdown",
      "source": [
        "**과소 적합이 일어나는 이유**\n",
        "- 훈련 세트와 테스트 세트의 크기가 매우 작기 때문이다."
      ],
      "metadata": {
        "id": "ayLHZ8AOLjYp"
      }
    },
    {
      "cell_type": "markdown",
      "source": [
        "**Q. 과소 적합을 해결하려면?**\n",
        "1. 모델을 좀 더 복잡하게 만든다.\n",
        "2. 양질의 데이터를 충분히 늘린다.\n",
        "\n",
        "+ K- 최근접 이웃 알고리즘의 모델을 좀 더 복잡하게 만드는 방법\n",
        "++ 이웃의 개수 k를 줄인다. (k개수 줄이면 국지적인 패턴에 민감, k개수 늘리면 데이터 전반에 있는 일반적인 패턴 따를 것.)"
      ],
      "metadata": {
        "id": "GPSr-R8_LIws"
      }
    },
    {
      "cell_type": "code",
      "execution_count": null,
      "metadata": {
        "colab": {
          "base_uri": "https://localhost:8080/"
        },
        "id": "Jhu9abILLHjq",
        "outputId": "f5ee736c-c48b-44fd-d54a-d855e0fb05cc"
      },
      "outputs": [
        {
          "output_type": "stream",
          "name": "stdout",
          "text": [
            "0.9804899950518966\n"
          ]
        }
      ],
      "source": [
        "# 이웃의 갯수를 5-> 3으로 설정합니다\n",
        "knr.n_neighbors = 3\n",
        "# 모델을 다시 훈련합니다\n",
        "knr.fit(train_input, train_target)\n",
        "print(knr.score(train_input, train_target))"
      ]
    },
    {
      "cell_type": "code",
      "execution_count": null,
      "metadata": {
        "colab": {
          "base_uri": "https://localhost:8080/"
        },
        "id": "cHedpJWCLVwb",
        "outputId": "d8087f02-fc11-4721-8be6-e298bf804f1c"
      },
      "outputs": [
        {
          "output_type": "stream",
          "name": "stdout",
          "text": [
            "0.9746459963987609\n"
          ]
        }
      ],
      "source": [
        "print(knr.score(test_input, test_target))\n",
        "# k값 줄였더니 r2 score 점수 높아짐을 확인할 수 있음."
      ]
    },
    {
      "cell_type": "markdown",
      "metadata": {
        "id": "V85bCyldfslj"
      },
      "source": [
        "# 선형 회귀"
      ]
    },
    {
      "cell_type": "markdown",
      "metadata": {
        "id": "gm-iQ5NXfsll"
      },
      "source": [
        "<table align=\"left\">\n",
        "  <td>\n",
        "    <a target=\"_blank\" href=\"https://colab.research.google.com/github/rickiepark/hg-mldl/blob/master/3-2.ipynb\"><img src=\"https://www.tensorflow.org/images/colab_logo_32px.png\" />구글 코랩에서 실행하기</a>\n",
        "  </td>\n",
        "</table>"
      ]
    },
    {
      "cell_type": "markdown",
      "metadata": {
        "id": "CgQlTY9VpWeb"
      },
      "source": [
        "## k-최근접 이웃의 한계"
      ]
    },
    {
      "cell_type": "code",
      "execution_count": null,
      "metadata": {
        "id": "HhWInkOKqg6s"
      },
      "outputs": [],
      "source": [
        "import numpy as np\n",
        "\n",
        "perch_length = np.array(\n",
        "    [8.4, 13.7, 15.0, 16.2, 17.4, 18.0, 18.7, 19.0, 19.6, 20.0,\n",
        "     21.0, 21.0, 21.0, 21.3, 22.0, 22.0, 22.0, 22.0, 22.0, 22.5,\n",
        "     22.5, 22.7, 23.0, 23.5, 24.0, 24.0, 24.6, 25.0, 25.6, 26.5,\n",
        "     27.3, 27.5, 27.5, 27.5, 28.0, 28.7, 30.0, 32.8, 34.5, 35.0,\n",
        "     36.5, 36.0, 37.0, 37.0, 39.0, 39.0, 39.0, 40.0, 40.0, 40.0,\n",
        "     40.0, 42.0, 43.0, 43.0, 43.5, 44.0]\n",
        "     )\n",
        "perch_weight = np.array(\n",
        "    [5.9, 32.0, 40.0, 51.5, 70.0, 100.0, 78.0, 80.0, 85.0, 85.0,\n",
        "     110.0, 115.0, 125.0, 130.0, 120.0, 120.0, 130.0, 135.0, 110.0,\n",
        "     130.0, 150.0, 145.0, 150.0, 170.0, 225.0, 145.0, 188.0, 180.0,\n",
        "     197.0, 218.0, 300.0, 260.0, 265.0, 250.0, 250.0, 300.0, 320.0,\n",
        "     514.0, 556.0, 840.0, 685.0, 700.0, 700.0, 690.0, 900.0, 650.0,\n",
        "     820.0, 850.0, 900.0, 1015.0, 820.0, 1100.0, 1000.0, 1100.0,\n",
        "     1000.0, 1000.0]\n",
        "     )"
      ]
    },
    {
      "cell_type": "code",
      "execution_count": null,
      "metadata": {
        "id": "7UVMy686qhP9"
      },
      "outputs": [],
      "source": [
        "from sklearn.model_selection import train_test_split\n",
        "\n",
        "# 훈련 세트와 테스트 세트로 나눕니다\n",
        "train_input, test_input, train_target, test_target = train_test_split(\n",
        "    perch_length, perch_weight, random_state=42)\n",
        "# 훈련 세트와 테스트 세트를 2차원 배열로 바꿉니다\n",
        "train_input = train_input.reshape(-1, 1)\n",
        "test_input = test_input.reshape(-1, 1)"
      ]
    },
    {
      "cell_type": "code",
      "execution_count": null,
      "metadata": {
        "colab": {
          "base_uri": "https://localhost:8080/",
          "height": 74
        },
        "id": "k7Uocvq2quTE",
        "outputId": "d6487c94-ed5b-4490-9a92-62460449e9ef"
      },
      "outputs": [
        {
          "output_type": "execute_result",
          "data": {
            "text/plain": [
              "KNeighborsRegressor(n_neighbors=3)"
            ],
            "text/html": [
              "<style>#sk-container-id-1 {color: black;background-color: white;}#sk-container-id-1 pre{padding: 0;}#sk-container-id-1 div.sk-toggleable {background-color: white;}#sk-container-id-1 label.sk-toggleable__label {cursor: pointer;display: block;width: 100%;margin-bottom: 0;padding: 0.3em;box-sizing: border-box;text-align: center;}#sk-container-id-1 label.sk-toggleable__label-arrow:before {content: \"▸\";float: left;margin-right: 0.25em;color: #696969;}#sk-container-id-1 label.sk-toggleable__label-arrow:hover:before {color: black;}#sk-container-id-1 div.sk-estimator:hover label.sk-toggleable__label-arrow:before {color: black;}#sk-container-id-1 div.sk-toggleable__content {max-height: 0;max-width: 0;overflow: hidden;text-align: left;background-color: #f0f8ff;}#sk-container-id-1 div.sk-toggleable__content pre {margin: 0.2em;color: black;border-radius: 0.25em;background-color: #f0f8ff;}#sk-container-id-1 input.sk-toggleable__control:checked~div.sk-toggleable__content {max-height: 200px;max-width: 100%;overflow: auto;}#sk-container-id-1 input.sk-toggleable__control:checked~label.sk-toggleable__label-arrow:before {content: \"▾\";}#sk-container-id-1 div.sk-estimator input.sk-toggleable__control:checked~label.sk-toggleable__label {background-color: #d4ebff;}#sk-container-id-1 div.sk-label input.sk-toggleable__control:checked~label.sk-toggleable__label {background-color: #d4ebff;}#sk-container-id-1 input.sk-hidden--visually {border: 0;clip: rect(1px 1px 1px 1px);clip: rect(1px, 1px, 1px, 1px);height: 1px;margin: -1px;overflow: hidden;padding: 0;position: absolute;width: 1px;}#sk-container-id-1 div.sk-estimator {font-family: monospace;background-color: #f0f8ff;border: 1px dotted black;border-radius: 0.25em;box-sizing: border-box;margin-bottom: 0.5em;}#sk-container-id-1 div.sk-estimator:hover {background-color: #d4ebff;}#sk-container-id-1 div.sk-parallel-item::after {content: \"\";width: 100%;border-bottom: 1px solid gray;flex-grow: 1;}#sk-container-id-1 div.sk-label:hover label.sk-toggleable__label {background-color: #d4ebff;}#sk-container-id-1 div.sk-serial::before {content: \"\";position: absolute;border-left: 1px solid gray;box-sizing: border-box;top: 0;bottom: 0;left: 50%;z-index: 0;}#sk-container-id-1 div.sk-serial {display: flex;flex-direction: column;align-items: center;background-color: white;padding-right: 0.2em;padding-left: 0.2em;position: relative;}#sk-container-id-1 div.sk-item {position: relative;z-index: 1;}#sk-container-id-1 div.sk-parallel {display: flex;align-items: stretch;justify-content: center;background-color: white;position: relative;}#sk-container-id-1 div.sk-item::before, #sk-container-id-1 div.sk-parallel-item::before {content: \"\";position: absolute;border-left: 1px solid gray;box-sizing: border-box;top: 0;bottom: 0;left: 50%;z-index: -1;}#sk-container-id-1 div.sk-parallel-item {display: flex;flex-direction: column;z-index: 1;position: relative;background-color: white;}#sk-container-id-1 div.sk-parallel-item:first-child::after {align-self: flex-end;width: 50%;}#sk-container-id-1 div.sk-parallel-item:last-child::after {align-self: flex-start;width: 50%;}#sk-container-id-1 div.sk-parallel-item:only-child::after {width: 0;}#sk-container-id-1 div.sk-dashed-wrapped {border: 1px dashed gray;margin: 0 0.4em 0.5em 0.4em;box-sizing: border-box;padding-bottom: 0.4em;background-color: white;}#sk-container-id-1 div.sk-label label {font-family: monospace;font-weight: bold;display: inline-block;line-height: 1.2em;}#sk-container-id-1 div.sk-label-container {text-align: center;}#sk-container-id-1 div.sk-container {/* jupyter's `normalize.less` sets `[hidden] { display: none; }` but bootstrap.min.css set `[hidden] { display: none !important; }` so we also need the `!important` here to be able to override the default hidden behavior on the sphinx rendered scikit-learn.org. See: https://github.com/scikit-learn/scikit-learn/issues/21755 */display: inline-block !important;position: relative;}#sk-container-id-1 div.sk-text-repr-fallback {display: none;}</style><div id=\"sk-container-id-1\" class=\"sk-top-container\"><div class=\"sk-text-repr-fallback\"><pre>KNeighborsRegressor(n_neighbors=3)</pre><b>In a Jupyter environment, please rerun this cell to show the HTML representation or trust the notebook. <br />On GitHub, the HTML representation is unable to render, please try loading this page with nbviewer.org.</b></div><div class=\"sk-container\" hidden><div class=\"sk-item\"><div class=\"sk-estimator sk-toggleable\"><input class=\"sk-toggleable__control sk-hidden--visually\" id=\"sk-estimator-id-1\" type=\"checkbox\" checked><label for=\"sk-estimator-id-1\" class=\"sk-toggleable__label sk-toggleable__label-arrow\">KNeighborsRegressor</label><div class=\"sk-toggleable__content\"><pre>KNeighborsRegressor(n_neighbors=3)</pre></div></div></div></div></div>"
            ]
          },
          "metadata": {},
          "execution_count": 3
        }
      ],
      "source": [
        "from sklearn.neighbors import KNeighborsRegressor\n",
        "\n",
        "knr = KNeighborsRegressor(n_neighbors=3)\n",
        "# k-최근접 이웃 회귀 모델을 훈련합니다\n",
        "knr.fit(train_input, train_target)"
      ]
    },
    {
      "cell_type": "code",
      "execution_count": null,
      "metadata": {
        "colab": {
          "base_uri": "https://localhost:8080/"
        },
        "id": "CFOp6T9-q0QR",
        "outputId": "42c1bf64-9aa1-4230-f996-6a4193a96617"
      },
      "outputs": [
        {
          "output_type": "stream",
          "name": "stdout",
          "text": [
            "[1033.33333333]\n"
          ]
        }
      ],
      "source": [
        "print(knr.predict([[50]]))\n",
        "# 농어의 무게 1033으로 예측했으나 실제 농어의 무게는 훨씬 더 많이 나가고 있음."
      ]
    },
    {
      "cell_type": "code",
      "execution_count": null,
      "metadata": {
        "id": "G8FR1q-IuBlU"
      },
      "outputs": [],
      "source": [
        "import matplotlib.pyplot as plt"
      ]
    },
    {
      "cell_type": "code",
      "execution_count": null,
      "metadata": {
        "colab": {
          "base_uri": "https://localhost:8080/",
          "height": 449
        },
        "id": "wR9eDDH2q9nP",
        "outputId": "8c9226c2-65dd-445c-fb26-22797cf38f01"
      },
      "outputs": [
        {
          "output_type": "display_data",
          "data": {
            "text/plain": [
              "<Figure size 640x480 with 1 Axes>"
            ],
            "image/png": "[encoded data removed]"
          },
          "metadata": {}
        }
      ],
      "source": [
        "# 50cm 농어의 이웃을 구합니다\n",
        "distances, indexes = knr.kneighbors([[50]])\n",
        "\n",
        "# 훈련 세트의 산점도를 그립니다\n",
        "plt.scatter(train_input, train_target)\n",
        "# 훈련 세트 중에서 이웃 샘플만 다시 그립니다\n",
        "plt.scatter(train_input[indexes], train_target[indexes], marker='D')\n",
        "# 50cm 농어 데이터\n",
        "plt.scatter(50, 1033, marker='^')  # 새로운 샘플\n",
        "plt.xlabel('length')\n",
        "plt.ylabel('weight')\n",
        "plt.show()"
      ]
    },
    {
      "cell_type": "code",
      "execution_count": null,
      "metadata": {
        "colab": {
          "base_uri": "https://localhost:8080/"
        },
        "id": "-eljdQI_d0go",
        "outputId": "8a68cc47-e015-48c6-df6e-67d8a704cc97"
      },
      "outputs": [
        {
          "output_type": "stream",
          "name": "stdout",
          "text": [
            "1033.3333333333333\n"
          ]
        }
      ],
      "source": [
        "print(np.mean(train_target[indexes]))"
      ]
    },
    {
      "cell_type": "code",
      "execution_count": null,
      "metadata": {
        "colab": {
          "base_uri": "https://localhost:8080/"
        },
        "id": "8cw87IL3t_3p",
        "outputId": "8b8c4a78-0061-4011-bde7-e9a19a8e3381"
      },
      "outputs": [
        {
          "output_type": "stream",
          "name": "stdout",
          "text": [
            "[1033.33333333]\n"
          ]
        }
      ],
      "source": [
        "print(knr.predict([[100]]))\n",
        "\n",
        "## K-최근접 이웃 모델의 문제점\n",
        "## 가까운 샘플을 찾아 타깃을 평균하는 모델이기 때문에 새로운 샘플이 train set의 범위를 벗어나면 엉뚱한 값을 예측할 수 있다."
      ]
    },
    {
      "cell_type": "code",
      "execution_count": null,
      "metadata": {
        "colab": {
          "base_uri": "https://localhost:8080/",
          "height": 449
        },
        "id": "YIMtpZKPfQjc",
        "outputId": "92dda45e-ee93-4c63-d7e4-220252410ff5"
      },
      "outputs": [
        {
          "output_type": "display_data",
          "data": {
            "text/plain": [
              "<Figure size 640x480 with 1 Axes>"
            ],
            "image/png": "[encoded data removed]"
          },
          "metadata": {}
        }
      ],
      "source": [
        "# 100cm 농어의 이웃을 구합니다\n",
        "distances, indexes = knr.kneighbors([[100]])\n",
        "\n",
        "# 훈련 세트의 산점도를 그립니다\n",
        "plt.scatter(train_input, train_target)\n",
        "# 훈련 세트 중에서 이웃 샘플만 다시 그립니다\n",
        "plt.scatter(train_input[indexes], train_target[indexes], marker='D')\n",
        "# 100cm 농어 데이터\n",
        "plt.scatter(100, 1033, marker='^')\n",
        "plt.xlabel('length')\n",
        "plt.ylabel('weight')\n",
        "plt.show()"
      ]
    },
    {
      "cell_type": "markdown",
      "metadata": {
        "id": "yFadoVqdpe93"
      },
      "source": [
        "## 선형 회귀"
      ]
    },
    {
      "cell_type": "code",
      "execution_count": null,
      "metadata": {
        "id": "AKnGV8g5uN_U"
      },
      "outputs": [],
      "source": [
        "from sklearn.linear_model import LinearRegression"
      ]
    },
    {
      "cell_type": "code",
      "execution_count": null,
      "metadata": {
        "colab": {
          "base_uri": "https://localhost:8080/",
          "height": 74
        },
        "id": "Ypqgx5RRuOWg",
        "outputId": "a5cbeb95-141e-4e8c-a6d7-7d0f2c5e50d4"
      },
      "outputs": [
        {
          "output_type": "execute_result",
          "data": {
            "text/plain": [
              "LinearRegression()"
            ],
            "text/html": [
              "<style>#sk-container-id-2 {color: black;background-color: white;}#sk-container-id-2 pre{padding: 0;}#sk-container-id-2 div.sk-toggleable {background-color: white;}#sk-container-id-2 label.sk-toggleable__label {cursor: pointer;display: block;width: 100%;margin-bottom: 0;padding: 0.3em;box-sizing: border-box;text-align: center;}#sk-container-id-2 label.sk-toggleable__label-arrow:before {content: \"▸\";float: left;margin-right: 0.25em;color: #696969;}#sk-container-id-2 label.sk-toggleable__label-arrow:hover:before {color: black;}#sk-container-id-2 div.sk-estimator:hover label.sk-toggleable__label-arrow:before {color: black;}#sk-container-id-2 div.sk-toggleable__content {max-height: 0;max-width: 0;overflow: hidden;text-align: left;background-color: #f0f8ff;}#sk-container-id-2 div.sk-toggleable__content pre {margin: 0.2em;color: black;border-radius: 0.25em;background-color: #f0f8ff;}#sk-container-id-2 input.sk-toggleable__control:checked~div.sk-toggleable__content {max-height: 200px;max-width: 100%;overflow: auto;}#sk-container-id-2 input.sk-toggleable__control:checked~label.sk-toggleable__label-arrow:before {content: \"▾\";}#sk-container-id-2 div.sk-estimator input.sk-toggleable__control:checked~label.sk-toggleable__label {background-color: #d4ebff;}#sk-container-id-2 div.sk-label input.sk-toggleable__control:checked~label.sk-toggleable__label {background-color: #d4ebff;}#sk-container-id-2 input.sk-hidden--visually {border: 0;clip: rect(1px 1px 1px 1px);clip: rect(1px, 1px, 1px, 1px);height: 1px;margin: -1px;overflow: hidden;padding: 0;position: absolute;width: 1px;}#sk-container-id-2 div.sk-estimator {font-family: monospace;background-color: #f0f8ff;border: 1px dotted black;border-radius: 0.25em;box-sizing: border-box;margin-bottom: 0.5em;}#sk-container-id-2 div.sk-estimator:hover {background-color: #d4ebff;}#sk-container-id-2 div.sk-parallel-item::after {content: \"\";width: 100%;border-bottom: 1px solid gray;flex-grow: 1;}#sk-container-id-2 div.sk-label:hover label.sk-toggleable__label {background-color: #d4ebff;}#sk-container-id-2 div.sk-serial::before {content: \"\";position: absolute;border-left: 1px solid gray;box-sizing: border-box;top: 0;bottom: 0;left: 50%;z-index: 0;}#sk-container-id-2 div.sk-serial {display: flex;flex-direction: column;align-items: center;background-color: white;padding-right: 0.2em;padding-left: 0.2em;position: relative;}#sk-container-id-2 div.sk-item {position: relative;z-index: 1;}#sk-container-id-2 div.sk-parallel {display: flex;align-items: stretch;justify-content: center;background-color: white;position: relative;}#sk-container-id-2 div.sk-item::before, #sk-container-id-2 div.sk-parallel-item::before {content: \"\";position: absolute;border-left: 1px solid gray;box-sizing: border-box;top: 0;bottom: 0;left: 50%;z-index: -1;}#sk-container-id-2 div.sk-parallel-item {display: flex;flex-direction: column;z-index: 1;position: relative;background-color: white;}#sk-container-id-2 div.sk-parallel-item:first-child::after {align-self: flex-end;width: 50%;}#sk-container-id-2 div.sk-parallel-item:last-child::after {align-self: flex-start;width: 50%;}#sk-container-id-2 div.sk-parallel-item:only-child::after {width: 0;}#sk-container-id-2 div.sk-dashed-wrapped {border: 1px dashed gray;margin: 0 0.4em 0.5em 0.4em;box-sizing: border-box;padding-bottom: 0.4em;background-color: white;}#sk-container-id-2 div.sk-label label {font-family: monospace;font-weight: bold;display: inline-block;line-height: 1.2em;}#sk-container-id-2 div.sk-label-container {text-align: center;}#sk-container-id-2 div.sk-container {/* jupyter's `normalize.less` sets `[hidden] { display: none; }` but bootstrap.min.css set `[hidden] { display: none !important; }` so we also need the `!important` here to be able to override the default hidden behavior on the sphinx rendered scikit-learn.org. See: https://github.com/scikit-learn/scikit-learn/issues/21755 */display: inline-block !important;position: relative;}#sk-container-id-2 div.sk-text-repr-fallback {display: none;}</style><div id=\"sk-container-id-2\" class=\"sk-top-container\"><div class=\"sk-text-repr-fallback\"><pre>LinearRegression()</pre><b>In a Jupyter environment, please rerun this cell to show the HTML representation or trust the notebook. <br />On GitHub, the HTML representation is unable to render, please try loading this page with nbviewer.org.</b></div><div class=\"sk-container\" hidden><div class=\"sk-item\"><div class=\"sk-estimator sk-toggleable\"><input class=\"sk-toggleable__control sk-hidden--visually\" id=\"sk-estimator-id-2\" type=\"checkbox\" checked><label for=\"sk-estimator-id-2\" class=\"sk-toggleable__label sk-toggleable__label-arrow\">LinearRegression</label><div class=\"sk-toggleable__content\"><pre>LinearRegression()</pre></div></div></div></div></div>"
            ]
          },
          "metadata": {},
          "execution_count": 11
        }
      ],
      "source": [
        "lr = LinearRegression()\n",
        "# 선형 회귀 모델 훈련\n",
        "lr.fit(train_input, train_target)"
      ]
    },
    {
      "cell_type": "code",
      "execution_count": null,
      "metadata": {
        "colab": {
          "base_uri": "https://localhost:8080/"
        },
        "id": "_Dh2FgXouRLU",
        "outputId": "8f2960e9-9b1f-492d-8163-7496db48a773"
      },
      "outputs": [
        {
          "output_type": "stream",
          "name": "stdout",
          "text": [
            "[1241.83860323]\n"
          ]
        }
      ],
      "source": [
        "# 50cm 농어에 대한 예측\n",
        "print(lr.predict([[50]]))\n",
        "# 이전 모델과는 달리 new data의 값(50cm 농어의 무게)을 크게 예측하는 모습"
      ]
    },
    {
      "cell_type": "code",
      "execution_count": null,
      "metadata": {
        "colab": {
          "base_uri": "https://localhost:8080/"
        },
        "id": "Gy_CKIiIMxDu",
        "outputId": "7b6d839c-d282-46cc-9e1c-01137dc6fdf7"
      },
      "outputs": [
        {
          "output_type": "stream",
          "name": "stdout",
          "text": [
            "[39.01714496] -709.0186449535477\n"
          ]
        }
      ],
      "source": [
        "print(lr.coef_, lr.intercept_)\n",
        "# y=ax+b에서 a와 b의 값이라고 보면 됨."
      ]
    },
    {
      "cell_type": "code",
      "execution_count": null,
      "metadata": {
        "colab": {
          "base_uri": "https://localhost:8080/",
          "height": 449
        },
        "id": "VumOdzlFuV_5",
        "outputId": "c7c8137d-e4a6-4722-ba3c-4ab7c0158b3e"
      },
      "outputs": [
        {
          "output_type": "display_data",
          "data": {
            "text/plain": [
              "<Figure size 640x480 with 1 Axes>"
            ],
            "image/png": "[encoded data removed]"
          },
          "metadata": {}
        }
      ],
      "source": [
        "# 훈련 세트의 산점도를 그립니다\n",
        "plt.scatter(train_input, train_target)\n",
        "# 15에서 50까지 1차 방정식 그래프를 그립니다\n",
        "plt.plot([15, 50], [15*lr.coef_+lr.intercept_, 50*lr.coef_+lr.intercept_])\n",
        "# 50cm 농어 데이터\n",
        "plt.scatter(50, 1241.8, marker='^')\n",
        "plt.xlabel('length')\n",
        "plt.ylabel('weight')\n",
        "plt.show()"
      ]
    },
    {
      "cell_type": "code",
      "execution_count": null,
      "metadata": {
        "colab": {
          "base_uri": "https://localhost:8080/"
        },
        "id": "myWLMckTQZzr",
        "outputId": "f605de5a-354d-4b77-eb71-b3868b3e194c"
      },
      "outputs": [
        {
          "output_type": "stream",
          "name": "stdout",
          "text": [
            "0.939846333997604\n",
            "0.8247503123313558\n"
          ]
        }
      ],
      "source": [
        "# train set과 test set의 r2 score 확인함\n",
        "print(lr.score(train_input, train_target))\n",
        "print(lr.score(test_input, test_target))"
      ]
    },
    {
      "cell_type": "markdown",
      "source": [
        "선형회귀로 얼추 expect값이 맞는 것 같으나 문제가 있음!!\n",
        "<br> 위의 선형 그래프대로라면 length 15cm일 때 무게가 음수로 가는 문제점 발생.\n",
        "\n",
        "<br> Q. 어떻게 하면 더 정확도를 높일 수 있을까?\n",
        "<br> 최적의 직선보다는 곡선을 찾아보면 어떨까? => 다항 회귀"
      ],
      "metadata": {
        "id": "dt4AZg1eFyMs"
      }
    },
    {
      "cell_type": "markdown",
      "metadata": {
        "id": "h-akkHaaQc0b"
      },
      "source": [
        "## 다항 회귀"
      ]
    },
    {
      "cell_type": "markdown",
      "source": [
        "https://everyday-image-processing.tistory.com/87\n",
        "\n",
        "넘파이 알고 쓰자 - stack, hstack, vstack, dstack, column_stack"
      ],
      "metadata": {
        "id": "diX4DHGKGpzf"
      }
    },
    {
      "cell_type": "code",
      "execution_count": null,
      "metadata": {
        "id": "wcdsYFxB2q82"
      },
      "outputs": [],
      "source": [
        "# 곡선을 그린다 -> 2차 방정식의 그래프를 그린다\n",
        "# 곡선을 그리려면 길이를 제곱한 항이 train set에 추가 되어야 함.\n",
        "# numpy의 broadcasting을 사용해서 데이터셋을 새롭게 만든다.\n",
        "rain_poly = np.column_stack((train_input ** 2, train_input))\n",
        "test_poly = np.column_stack((test_input ** 2, test_input))"
      ]
    },
    {
      "cell_type": "code",
      "execution_count": null,
      "metadata": {
        "colab": {
          "base_uri": "https://localhost:8080/"
        },
        "id": "JJ6tf1F96EzF",
        "outputId": "3f9eea99-fa9d-476a-fc12-31edda58132e"
      },
      "outputs": [
        {
          "output_type": "stream",
          "name": "stdout",
          "text": [
            "(42, 2) (14, 2)\n"
          ]
        }
      ],
      "source": [
        "print(train_poly.shape, test_poly.shape)"
      ]
    },
    {
      "cell_type": "code",
      "execution_count": null,
      "metadata": {
        "colab": {
          "base_uri": "https://localhost:8080/"
        },
        "id": "LTlN32tML4Kf",
        "outputId": "469e2197-466c-49a4-b20b-306d4337dd37"
      },
      "outputs": [
        {
          "output_type": "stream",
          "name": "stdout",
          "text": [
            "[1573.98423528]\n"
          ]
        }
      ],
      "source": [
        "lr = LinearRegression()\n",
        "lr.fit(train_poly, train_target)\n",
        "\n",
        "print(lr.predict([[50**2, 50]]))"
      ]
    },
    {
      "cell_type": "code",
      "execution_count": null,
      "metadata": {
        "colab": {
          "base_uri": "https://localhost:8080/"
        },
        "id": "k_fGreBgNCAc",
        "outputId": "cf36c710-c157-4b0b-f660-a09540a585bc"
      },
      "outputs": [
        {
          "output_type": "stream",
          "name": "stdout",
          "text": [
            "[  1.01433211 -21.55792498] 116.0502107827827\n"
          ]
        }
      ],
      "source": [
        "print(lr.coef_, lr.intercept_)"
      ]
    },
    {
      "cell_type": "code",
      "execution_count": null,
      "metadata": {
        "colab": {
          "base_uri": "https://localhost:8080/",
          "height": 449
        },
        "id": "c91qVYoPLz1H",
        "outputId": "f8f25204-fd60-4132-f17e-5a32e564c7c2"
      },
      "outputs": [
        {
          "output_type": "display_data",
          "data": {
            "text/plain": [
              "<Figure size 640x480 with 1 Axes>"
            ],
            "image/png": "[encoded data removed]"
          },
          "metadata": {}
        }
      ],
      "source": [
        "# 구간별 직선을 그리기 위해 15에서 49까지 정수 배열을 만듭니다\n",
        "point = np.arange(15, 50)\n",
        "# 훈련 세트의 산점도를 그립니다\n",
        "plt.scatter(train_input, train_target)\n",
        "# 15에서 49까지 2차 방정식 그래프를 그립니다\n",
        "plt.plot(point, 1.01*point**2 - 21.6*point + 116.05)\n",
        "# 50cm 농어 데이터\n",
        "plt.scatter([50], [1574], marker='^')\n",
        "plt.xlabel('length')\n",
        "plt.ylabel('weight')\n",
        "plt.show()"
      ]
    },
    {
      "cell_type": "code",
      "execution_count": null,
      "metadata": {
        "colab": {
          "base_uri": "https://localhost:8080/"
        },
        "id": "oCGTrZezL3E4",
        "outputId": "d5a93d33-54b7-455b-8028-8a239b84573c"
      },
      "outputs": [
        {
          "output_type": "stream",
          "name": "stdout",
          "text": [
            "0.9706807451768623\n",
            "0.9775935108325122\n"
          ]
        }
      ],
      "source": [
        "print(lr.score(train_poly, train_target))\n",
        "print(lr.score(test_poly, test_target))"
      ]
    },
    {
      "cell_type": "code",
      "source": [],
      "metadata": {
        "id": "gP8a5NOf_CvU"
      },
      "execution_count": null,
      "outputs": []
    },
    {
      "cell_type": "markdown",
      "metadata": {
        "id": "XjTc5n2flYUu"
      },
      "source": [
        "# 특성 공학과 규제"
      ]
    },
    {
      "cell_type": "markdown",
      "metadata": {
        "id": "B8YOr2hElYUv"
      },
      "source": [
        "<table align=\"left\">\n",
        "  <td>\n",
        "    <a target=\"_blank\" href=\"https://colab.research.google.com/github/rickiepark/hg-mldl/blob/master/3-3.ipynb\"><img src=\"https://www.tensorflow.org/images/colab_logo_32px.png\" />구글 코랩에서 실행하기</a>\n",
        "  </td>\n",
        "</table>"
      ]
    },
    {
      "cell_type": "markdown",
      "source": [
        "* 다중 회귀 multiple regression\n",
        "여러 개의 특성을 사용한 선형 회귀를 다중 회귀라고 한다 multiple regression\n",
        "* 특성 공학 feature regression\n",
        "기존의 특성을 사용해 새로운 특성을 뽑아내는 작업"
      ],
      "metadata": {
        "id": "6jketeM_G5kZ"
      }
    },
    {
      "cell_type": "markdown",
      "metadata": {
        "id": "fZwhQU2l8tI6"
      },
      "source": [
        "## 데이터 준비"
      ]
    },
    {
      "cell_type": "code",
      "execution_count": null,
      "metadata": {
        "id": "3kjaTfOqEVwY"
      },
      "outputs": [],
      "source": [
        "import pandas as pd"
      ]
    },
    {
      "cell_type": "code",
      "execution_count": null,
      "metadata": {
        "colab": {
          "base_uri": "https://localhost:8080/"
        },
        "id": "8qmTS1RzKRKT",
        "outputId": "62a1790e-34bf-4a28-f135-e66469a5f25b"
      },
      "outputs": [
        {
          "output_type": "stream",
          "name": "stdout",
          "text": [
            "[[ 8.4   2.11  1.41]\n",
            " [13.7   3.53  2.  ]\n",
            " [15.    3.82  2.43]\n",
            " [16.2   4.59  2.63]\n",
            " [17.4   4.59  2.94]\n",
            " [18.    5.22  3.32]\n",
            " [18.7   5.2   3.12]\n",
            " [19.    5.64  3.05]\n",
            " [19.6   5.14  3.04]\n",
            " [20.    5.08  2.77]\n",
            " [21.    5.69  3.56]\n",
            " [21.    5.92  3.31]\n",
            " [21.    5.69  3.67]\n",
            " [21.3   6.38  3.53]\n",
            " [22.    6.11  3.41]\n",
            " [22.    5.64  3.52]\n",
            " [22.    6.11  3.52]\n",
            " [22.    5.88  3.52]\n",
            " [22.    5.52  4.  ]\n",
            " [22.5   5.86  3.62]\n",
            " [22.5   6.79  3.62]\n",
            " [22.7   5.95  3.63]\n",
            " [23.    5.22  3.63]\n",
            " [23.5   6.28  3.72]\n",
            " [24.    7.29  3.72]\n",
            " [24.    6.38  3.82]\n",
            " [24.6   6.73  4.17]\n",
            " [25.    6.44  3.68]\n",
            " [25.6   6.56  4.24]\n",
            " [26.5   7.17  4.14]\n",
            " [27.3   8.32  5.14]\n",
            " [27.5   7.17  4.34]\n",
            " [27.5   7.05  4.34]\n",
            " [27.5   7.28  4.57]\n",
            " [28.    7.82  4.2 ]\n",
            " [28.7   7.59  4.64]\n",
            " [30.    7.62  4.77]\n",
            " [32.8  10.03  6.02]\n",
            " [34.5  10.26  6.39]\n",
            " [35.   11.49  7.8 ]\n",
            " [36.5  10.88  6.86]\n",
            " [36.   10.61  6.74]\n",
            " [37.   10.84  6.26]\n",
            " [37.   10.57  6.37]\n",
            " [39.   11.14  7.49]\n",
            " [39.   11.14  6.  ]\n",
            " [39.   12.43  7.35]\n",
            " [40.   11.93  7.11]\n",
            " [40.   11.73  7.22]\n",
            " [40.   12.38  7.46]\n",
            " [40.   11.14  6.63]\n",
            " [42.   12.8   6.87]\n",
            " [43.   11.93  7.28]\n",
            " [43.   12.51  7.42]\n",
            " [43.5  12.6   8.14]\n",
            " [44.   12.49  7.6 ]]\n"
          ]
        }
      ],
      "source": [
        "df = pd.read_csv('https://bit.ly/perch_csv_data')\n",
        "perch_full = df.to_numpy()\n",
        "print(perch_full)"
      ]
    },
    {
      "cell_type": "code",
      "execution_count": null,
      "metadata": {
        "id": "PsRC7rvE9SbL"
      },
      "outputs": [],
      "source": [
        "import numpy as np\n",
        "\n",
        "perch_weight = np.array(\n",
        "    [5.9, 32.0, 40.0, 51.5, 70.0, 100.0, 78.0, 80.0, 85.0, 85.0,\n",
        "     110.0, 115.0, 125.0, 130.0, 120.0, 120.0, 130.0, 135.0, 110.0,\n",
        "     130.0, 150.0, 145.0, 150.0, 170.0, 225.0, 145.0, 188.0, 180.0,\n",
        "     197.0, 218.0, 300.0, 260.0, 265.0, 250.0, 250.0, 300.0, 320.0,\n",
        "     514.0, 556.0, 840.0, 685.0, 700.0, 700.0, 690.0, 900.0, 650.0,\n",
        "     820.0, 850.0, 900.0, 1015.0, 820.0, 1100.0, 1000.0, 1100.0,\n",
        "     1000.0, 1000.0]\n",
        "     )"
      ]
    },
    {
      "cell_type": "code",
      "execution_count": null,
      "metadata": {
        "id": "cRKkoWoZ9J0m"
      },
      "outputs": [],
      "source": [
        "from sklearn.model_selection import train_test_split\n",
        "\n",
        "train_input, test_input, train_target, test_target = train_test_split(perch_full, perch_weight, random_state=42)"
      ]
    },
    {
      "cell_type": "markdown",
      "metadata": {
        "id": "y5uMFE_8V1tx"
      },
      "source": [
        "## 사이킷런의 변환기"
      ]
    },
    {
      "cell_type": "code",
      "execution_count": null,
      "metadata": {
        "id": "EclugdXmSs-L"
      },
      "outputs": [],
      "source": [
        "from sklearn.preprocessing import PolynomialFeatures"
      ]
    },
    {
      "cell_type": "code",
      "execution_count": null,
      "metadata": {
        "colab": {
          "base_uri": "https://localhost:8080/"
        },
        "id": "V5is7cZhKbPU",
        "outputId": "a27d2b55-7547-4add-b3e9-3a97c23eb954"
      },
      "outputs": [
        {
          "output_type": "stream",
          "name": "stdout",
          "text": [
            "[[1. 2. 3. 4. 6. 9.]]\n"
          ]
        }
      ],
      "source": [
        "poly = PolynomialFeatures()\n",
        "poly.fit([[2, 3]])\n",
        "print(poly.transform([[2, 3]]))"
      ]
    },
    {
      "cell_type": "code",
      "execution_count": null,
      "metadata": {
        "colab": {
          "base_uri": "https://localhost:8080/"
        },
        "id": "bKXkK0oJc4nG",
        "outputId": "ee304884-059a-4e6a-c358-64530cb1129d"
      },
      "outputs": [
        {
          "output_type": "stream",
          "name": "stdout",
          "text": [
            "[[2. 3. 4. 6. 9.]]\n"
          ]
        }
      ],
      "source": [
        "poly = PolynomialFeatures(include_bias=False)\n",
        "poly.fit([[2, 3]])\n",
        "print(poly.transform([[2, 3]]))"
      ]
    },
    {
      "cell_type": "code",
      "execution_count": null,
      "metadata": {
        "id": "__kE6eJdNZfm"
      },
      "outputs": [],
      "source": [
        "poly = PolynomialFeatures(include_bias=False)\n",
        "\n",
        "poly.fit(train_input)\n",
        "train_poly = poly.transform(train_input)"
      ]
    },
    {
      "cell_type": "code",
      "execution_count": null,
      "metadata": {
        "colab": {
          "base_uri": "https://localhost:8080/"
        },
        "id": "2a_lmkKle4kF",
        "outputId": "15ad4a84-a8e1-4079-8cc6-6bb9ef128e2f"
      },
      "outputs": [
        {
          "output_type": "stream",
          "name": "stdout",
          "text": [
            "(42, 9)\n"
          ]
        }
      ],
      "source": [
        "print(train_poly.shape)"
      ]
    },
    {
      "cell_type": "code",
      "execution_count": null,
      "metadata": {
        "colab": {
          "base_uri": "https://localhost:8080/"
        },
        "id": "X6GUwfXTfKbl",
        "outputId": "a47e9c30-9730-497c-e897-8ff248cc9074"
      },
      "outputs": [
        {
          "output_type": "execute_result",
          "data": {
            "text/plain": [
              "array(['x0', 'x1', 'x2', 'x0^2', 'x0 x1', 'x0 x2', 'x1^2', 'x1 x2',\n",
              "       'x2^2'], dtype=object)"
            ]
          },
          "metadata": {},
          "execution_count": 40
        }
      ],
      "source": [
        "poly.get_feature_names_out()"
      ]
    },
    {
      "cell_type": "code",
      "execution_count": null,
      "metadata": {
        "id": "DJMPxe2mgbOo"
      },
      "outputs": [],
      "source": [
        "test_poly = poly.transform(test_input)"
      ]
    },
    {
      "cell_type": "markdown",
      "metadata": {
        "id": "PdDAslHzNk3H"
      },
      "source": [
        "## 다중 회귀 모델 훈련하기"
      ]
    },
    {
      "cell_type": "code",
      "execution_count": null,
      "metadata": {
        "colab": {
          "base_uri": "https://localhost:8080/"
        },
        "id": "E9ygy-8WOvIP",
        "outputId": "73ec508e-d9f9-4147-bad6-21109aafd93d"
      },
      "outputs": [
        {
          "output_type": "stream",
          "name": "stdout",
          "text": [
            "0.9903183436982125\n"
          ]
        }
      ],
      "source": [
        "from sklearn.linear_model import LinearRegression\n",
        "\n",
        "lr = LinearRegression()\n",
        "lr.fit(train_poly, train_target)\n",
        "print(lr.score(train_poly, train_target))"
      ]
    },
    {
      "cell_type": "code",
      "execution_count": null,
      "metadata": {
        "colab": {
          "base_uri": "https://localhost:8080/"
        },
        "id": "GKKyfFcAd7zm",
        "outputId": "80944369-a45b-4e14-c38e-0652efe39723"
      },
      "outputs": [
        {
          "output_type": "stream",
          "name": "stdout",
          "text": [
            "0.9714559911594111\n"
          ]
        }
      ],
      "source": [
        "print(lr.score(test_poly, test_target))"
      ]
    },
    {
      "cell_type": "code",
      "execution_count": null,
      "metadata": {
        "id": "2fDt5mrReMwU"
      },
      "outputs": [],
      "source": [
        "poly = PolynomialFeatures(degree=5, include_bias=False)\n",
        "\n",
        "poly.fit(train_input)\n",
        "train_poly = poly.transform(train_input)\n",
        "test_poly = poly.transform(test_input)"
      ]
    },
    {
      "cell_type": "code",
      "execution_count": null,
      "metadata": {
        "colab": {
          "base_uri": "https://localhost:8080/"
        },
        "id": "hcM8R4VHSzR8",
        "outputId": "ab384f3c-04d9-41b3-b5c7-f6ac6de6df9e"
      },
      "outputs": [
        {
          "output_type": "stream",
          "name": "stdout",
          "text": [
            "(42, 55)\n"
          ]
        }
      ],
      "source": [
        "print(train_poly.shape)"
      ]
    },
    {
      "cell_type": "code",
      "execution_count": null,
      "metadata": {
        "colab": {
          "base_uri": "https://localhost:8080/"
        },
        "id": "UffVFVTGP8xj",
        "outputId": "c76714a5-18eb-46a1-d29f-6f26c5a83a19"
      },
      "outputs": [
        {
          "output_type": "stream",
          "name": "stdout",
          "text": [
            "0.9999999999996433\n"
          ]
        }
      ],
      "source": [
        "lr.fit(train_poly, train_target)\n",
        "print(lr.score(train_poly, train_target))"
      ]
    },
    {
      "cell_type": "code",
      "execution_count": null,
      "metadata": {
        "colab": {
          "base_uri": "https://localhost:8080/"
        },
        "id": "GtITdlYFg7AY",
        "outputId": "c2c167cf-e680-44a5-a7ff-71efe48b9a03"
      },
      "outputs": [
        {
          "output_type": "stream",
          "name": "stdout",
          "text": [
            "-144.40579436844948\n"
          ]
        }
      ],
      "source": [
        "print(lr.score(test_poly, test_target))"
      ]
    },
    {
      "cell_type": "markdown",
      "metadata": {
        "id": "K2YMPSelQBpO"
      },
      "source": [
        "## 규제"
      ]
    },
    {
      "cell_type": "code",
      "execution_count": null,
      "metadata": {
        "id": "hCC7wKy3QQrE"
      },
      "outputs": [],
      "source": [
        "from sklearn.preprocessing import StandardScaler\n",
        "\n",
        "ss = StandardScaler()\n",
        "ss.fit(train_poly)\n",
        "\n",
        "train_scaled = ss.transform(train_poly)\n",
        "test_scaled = ss.transform(test_poly)"
      ]
    },
    {
      "cell_type": "markdown",
      "metadata": {
        "id": "qyLI7JQsJ7RQ"
      },
      "source": [
        "## 릿지"
      ]
    },
    {
      "cell_type": "code",
      "execution_count": null,
      "metadata": {
        "colab": {
          "base_uri": "https://localhost:8080/"
        },
        "id": "LdNuDNQGQipv",
        "outputId": "11558a6c-0c97-4b1f-f345-933018b18221"
      },
      "outputs": [
        {
          "output_type": "stream",
          "name": "stdout",
          "text": [
            "0.9896101671037343\n"
          ]
        }
      ],
      "source": [
        "from sklearn.linear_model import Ridge\n",
        "\n",
        "ridge = Ridge()\n",
        "ridge.fit(train_scaled, train_target)\n",
        "print(ridge.score(train_scaled, train_target))"
      ]
    },
    {
      "cell_type": "code",
      "execution_count": null,
      "metadata": {
        "colab": {
          "base_uri": "https://localhost:8080/"
        },
        "id": "p5mXLecwhdnF",
        "outputId": "0e2ddf45-68a9-4f8b-8ab2-e4b9f5360087"
      },
      "outputs": [
        {
          "output_type": "stream",
          "name": "stdout",
          "text": [
            "0.9790693977615387\n"
          ]
        }
      ],
      "source": [
        "print(ridge.score(test_scaled, test_target))"
      ]
    },
    {
      "cell_type": "code",
      "execution_count": null,
      "metadata": {
        "id": "wXd3_Kq6hlbM"
      },
      "outputs": [],
      "source": [
        "import matplotlib.pyplot as plt\n",
        "\n",
        "train_score = []\n",
        "test_score = []"
      ]
    },
    {
      "cell_type": "code",
      "execution_count": null,
      "metadata": {
        "id": "9MvIvQOrhfqC"
      },
      "outputs": [],
      "source": [
        "alpha_list = [0.001, 0.01, 0.1, 1, 10, 100]\n",
        "for alpha in alpha_list:\n",
        "    # 릿지 모델을 만듭니다\n",
        "    ridge = Ridge(alpha=alpha)\n",
        "    # 릿지 모델을 훈련합니다\n",
        "    ridge.fit(train_scaled, train_target)\n",
        "    # 훈련 점수와 테스트 점수를 저장합니다\n",
        "    train_score.append(ridge.score(train_scaled, train_target))\n",
        "    test_score.append(ridge.score(test_scaled, test_target))"
      ]
    },
    {
      "cell_type": "code",
      "execution_count": null,
      "metadata": {
        "colab": {
          "base_uri": "https://localhost:8080/",
          "height": 449
        },
        "id": "95DjrJxlhiow",
        "outputId": "a004ea2c-a338-448d-9dbd-2b68aff09892"
      },
      "outputs": [
        {
          "output_type": "display_data",
          "data": {
            "text/plain": [
              "<Figure size 640x480 with 1 Axes>"
            ],
            "image/png": "[encoded data removed]"
          },
          "metadata": {}
        }
      ],
      "source": [
        "plt.plot(np.log10(alpha_list), train_score)\n",
        "plt.plot(np.log10(alpha_list), test_score)\n",
        "plt.xlabel('alpha')\n",
        "plt.ylabel('R^2')\n",
        "plt.show()"
      ]
    },
    {
      "cell_type": "code",
      "execution_count": null,
      "metadata": {
        "colab": {
          "base_uri": "https://localhost:8080/"
        },
        "id": "5S5vhi-vhjzT",
        "outputId": "ac52eb28-1bf2-434f-d21f-b123a6d1f0cd"
      },
      "outputs": [
        {
          "output_type": "stream",
          "name": "stdout",
          "text": [
            "0.9903815817570367\n",
            "0.9827976465386928\n"
          ]
        }
      ],
      "source": [
        "ridge = Ridge(alpha=0.1)\n",
        "ridge.fit(train_scaled, train_target)\n",
        "\n",
        "print(ridge.score(train_scaled, train_target))\n",
        "print(ridge.score(test_scaled, test_target))"
      ]
    },
    {
      "cell_type": "markdown",
      "metadata": {
        "id": "jUph9pH_KA9_"
      },
      "source": [
        "## 라쏘"
      ]
    },
    {
      "cell_type": "code",
      "execution_count": null,
      "metadata": {
        "colab": {
          "base_uri": "https://localhost:8080/"
        },
        "id": "Ymu-jmekh0IK",
        "outputId": "dab813ee-5531-4905-93b2-52d16c8e8b21"
      },
      "outputs": [
        {
          "output_type": "stream",
          "name": "stdout",
          "text": [
            "0.989789897208096\n"
          ]
        }
      ],
      "source": [
        "from sklearn.linear_model import Lasso\n",
        "\n",
        "lasso = Lasso()\n",
        "lasso.fit(train_scaled, train_target)\n",
        "print(lasso.score(train_scaled, train_target))"
      ]
    },
    {
      "cell_type": "code",
      "execution_count": null,
      "metadata": {
        "colab": {
          "base_uri": "https://localhost:8080/"
        },
        "id": "t3jO37UMh2iI",
        "outputId": "232674e2-4d08-4ae2-bba0-040a72a53e44"
      },
      "outputs": [
        {
          "output_type": "stream",
          "name": "stdout",
          "text": [
            "0.9800593698421883\n"
          ]
        }
      ],
      "source": [
        "print(lasso.score(test_scaled, test_target))"
      ]
    },
    {
      "cell_type": "code",
      "execution_count": null,
      "metadata": {
        "colab": {
          "base_uri": "https://localhost:8080/"
        },
        "id": "uoL2oJ6Ih4Jw",
        "outputId": "30dffbb7-9b86-42e5-fa32-5953a4b8efa3",
        "scrolled": true
      },
      "outputs": [
        {
          "output_type": "stream",
          "name": "stderr",
          "text": [
            "/usr/local/lib/python3.10/dist-packages/sklearn/linear_model/_coordinate_descent.py:631: ConvergenceWarning: Objective did not converge. You might want to increase the number of iterations, check the scale of the features or consider increasing regularisation. Duality gap: 1.878e+04, tolerance: 5.183e+02\n",
            "  model = cd_fast.enet_coordinate_descent(\n",
            "/usr/local/lib/python3.10/dist-packages/sklearn/linear_model/_coordinate_descent.py:631: ConvergenceWarning: Objective did not converge. You might want to increase the number of iterations, check the scale of the features or consider increasing regularisation. Duality gap: 1.297e+04, tolerance: 5.183e+02\n",
            "  model = cd_fast.enet_coordinate_descent(\n"
          ]
        }
      ],
      "source": [
        "train_score = []\n",
        "test_score = []\n",
        "\n",
        "alpha_list = [0.001, 0.01, 0.1, 1, 10, 100]\n",
        "for alpha in alpha_list:\n",
        "    # 라쏘 모델을 만듭니다\n",
        "    lasso = Lasso(alpha=alpha, max_iter=10000)\n",
        "    # 라쏘 모델을 훈련합니다\n",
        "    lasso.fit(train_scaled, train_target)\n",
        "    # 훈련 점수와 테스트 점수를 저장합니다\n",
        "    train_score.append(lasso.score(train_scaled, train_target))\n",
        "    test_score.append(lasso.score(test_scaled, test_target))"
      ]
    },
    {
      "cell_type": "code",
      "execution_count": null,
      "metadata": {
        "colab": {
          "base_uri": "https://localhost:8080/",
          "height": 449
        },
        "id": "7rkH8Dvzh9UI",
        "outputId": "a1b647d7-25d5-4206-edc8-1bf07a279d9d"
      },
      "outputs": [
        {
          "output_type": "display_data",
          "data": {
            "text/plain": [
              "<Figure size 640x480 with 1 Axes>"
            ],
            "image/png": "[encoded data removed]"
          },
          "metadata": {}
        }
      ],
      "source": [
        "plt.plot(np.log10(alpha_list), train_score)\n",
        "plt.plot(np.log10(alpha_list), test_score)\n",
        "plt.xlabel('alpha')\n",
        "plt.ylabel('R^2')\n",
        "plt.show()"
      ]
    },
    {
      "cell_type": "code",
      "execution_count": null,
      "metadata": {
        "colab": {
          "base_uri": "https://localhost:8080/"
        },
        "id": "t4uFD9Flh_Dw",
        "outputId": "6946c4fd-97af-44b4-b99a-facb65d14661"
      },
      "outputs": [
        {
          "output_type": "stream",
          "name": "stdout",
          "text": [
            "0.9888067471131867\n",
            "0.9824470598706695\n"
          ]
        }
      ],
      "source": [
        "lasso = Lasso(alpha=10)\n",
        "lasso.fit(train_scaled, train_target)\n",
        "\n",
        "print(lasso.score(train_scaled, train_target))\n",
        "print(lasso.score(test_scaled, test_target))"
      ]
    },
    {
      "cell_type": "code",
      "execution_count": null,
      "metadata": {
        "colab": {
          "base_uri": "https://localhost:8080/"
        },
        "id": "z_bQc3s8Uoai",
        "outputId": "5ad2a313-3880-4078-ac63-4019049b5ec4"
      },
      "outputs": [
        {
          "output_type": "stream",
          "name": "stdout",
          "text": [
            "40\n"
          ]
        }
      ],
      "source": [
        "print(np.sum(lasso.coef_ == 0))"
      ]
    },
    {
      "cell_type": "code",
      "source": [],
      "metadata": {
        "id": "Skz3u1cm_Jq8"
      },
      "execution_count": null,
      "outputs": []
    },
    {
      "cell_type": "markdown",
      "metadata": {
        "id": "LlS4gyYqJVpn"
      },
      "source": [
        "# 로지스틱 회귀"
      ]
    },
    {
      "cell_type": "markdown",
      "metadata": {
        "id": "m9MHDgx2JVpv"
      },
      "source": [
        "<table align=\"left\">\n",
        "  <td>\n",
        "    <a target=\"_blank\" href=\"https://colab.research.google.com/github/rickiepark/hg-mldl/blob/master/4-1.ipynb\"><img src=\"https://www.tensorflow.org/images/colab_logo_32px.png\" />구글 코랩에서 실행하기</a>\n",
        "  </td>\n",
        "</table>"
      ]
    },
    {
      "cell_type": "markdown",
      "metadata": {
        "id": "tQBDVUjBbIsL"
      },
      "source": [
        "## 럭키백의 확률"
      ]
    },
    {
      "cell_type": "markdown",
      "metadata": {
        "id": "ILi_LPl9JVpw"
      },
      "source": [
        "### 데이터 준비하기"
      ]
    },
    {
      "cell_type": "code",
      "execution_count": null,
      "metadata": {
        "colab": {
          "base_uri": "https://localhost:8080/",
          "height": 206
        },
        "id": "Mba6QeEmLn3r",
        "outputId": "752ed0d7-c1cf-4dea-9baa-7953bfa0fbf3"
      },
      "outputs": [
        {
          "output_type": "execute_result",
          "data": {
            "text/plain": [
              "  Species  Weight  Length  Diagonal   Height   Width\n",
              "0   Bream   242.0    25.4      30.0  11.5200  4.0200\n",
              "1   Bream   290.0    26.3      31.2  12.4800  4.3056\n",
              "2   Bream   340.0    26.5      31.1  12.3778  4.6961\n",
              "3   Bream   363.0    29.0      33.5  12.7300  4.4555\n",
              "4   Bream   430.0    29.0      34.0  12.4440  5.1340"
            ],
            "text/html": [
              "\n",
              "\n",
              "  <div id=\"df-e4a76d77-c81b-45fd-96e9-459257d25da0\">\n",
              "    <div class=\"colab-df-container\">\n",
              "      <div>\n",
              "<style scoped>\n",
              "    .dataframe tbody tr th:only-of-type {\n",
              "        vertical-align: middle;\n",
              "    }\n",
              "\n",
              "    .dataframe tbody tr th {\n",
              "        vertical-align: top;\n",
              "    }\n",
              "\n",
              "    .dataframe thead th {\n",
              "        text-align: right;\n",
              "    }\n",
              "</style>\n",
              "<table border=\"1\" class=\"dataframe\">\n",
              "  <thead>\n",
              "    <tr style=\"text-align: right;\">\n",
              "      <th></th>\n",
              "      <th>Species</th>\n",
              "      <th>Weight</th>\n",
              "      <th>Length</th>\n",
              "      <th>Diagonal</th>\n",
              "      <th>Height</th>\n",
              "      <th>Width</th>\n",
              "    </tr>\n",
              "  </thead>\n",
              "  <tbody>\n",
              "    <tr>\n",
              "      <th>0</th>\n",
              "      <td>Bream</td>\n",
              "      <td>242.0</td>\n",
              "      <td>25.4</td>\n",
              "      <td>30.0</td>\n",
              "      <td>11.5200</td>\n",
              "      <td>4.0200</td>\n",
              "    </tr>\n",
              "    <tr>\n",
              "      <th>1</th>\n",
              "      <td>Bream</td>\n",
              "      <td>290.0</td>\n",
              "      <td>26.3</td>\n",
              "      <td>31.2</td>\n",
              "      <td>12.4800</td>\n",
              "      <td>4.3056</td>\n",
              "    </tr>\n",
              "    <tr>\n",
              "      <th>2</th>\n",
              "      <td>Bream</td>\n",
              "      <td>340.0</td>\n",
              "      <td>26.5</td>\n",
              "      <td>31.1</td>\n",
              "      <td>12.3778</td>\n",
              "      <td>4.6961</td>\n",
              "    </tr>\n",
              "    <tr>\n",
              "      <th>3</th>\n",
              "      <td>Bream</td>\n",
              "      <td>363.0</td>\n",
              "      <td>29.0</td>\n",
              "      <td>33.5</td>\n",
              "      <td>12.7300</td>\n",
              "      <td>4.4555</td>\n",
              "    </tr>\n",
              "    <tr>\n",
              "      <th>4</th>\n",
              "      <td>Bream</td>\n",
              "      <td>430.0</td>\n",
              "      <td>29.0</td>\n",
              "      <td>34.0</td>\n",
              "      <td>12.4440</td>\n",
              "      <td>5.1340</td>\n",
              "    </tr>\n",
              "  </tbody>\n",
              "</table>\n",
              "</div>\n",
              "      <button class=\"colab-df-convert\" onclick=\"convertToInteractive('df-e4a76d77-c81b-45fd-96e9-459257d25da0')\"\n",
              "              title=\"Convert this dataframe to an interactive table.\"\n",
              "              style=\"display:none;\">\n",
              "\n",
              "  <svg xmlns=\"http://www.w3.org/2000/svg\" height=\"24px\"viewBox=\"0 0 24 24\"\n",
              "       width=\"24px\">\n",
              "    <path d=\"M0 0h24v24H0V0z\" fill=\"none\"/>\n",
              "    <path d=\"M18.56 5.44l.94 2.06.94-2.06 2.06-.94-2.06-.94-.94-2.06-.94 2.06-2.06.94zm-11 1L8.5 8.5l.94-2.06 2.06-.94-2.06-.94L8.5 2.5l-.94 2.06-2.06.94zm10 10l.94 2.06.94-2.06 2.06-.94-2.06-.94-.94-2.06-.94 2.06-2.06.94z\"/><path d=\"M17.41 7.96l-1.37-1.37c-.4-.4-.92-.59-1.43-.59-.52 0-1.04.2-1.43.59L10.3 9.45l-7.72 7.72c-.78.78-.78 2.05 0 2.83L4 21.41c.39.39.9.59 1.41.59.51 0 1.02-.2 1.41-.59l7.78-7.78 2.81-2.81c.8-.78.8-2.07 0-2.86zM5.41 20L4 18.59l7.72-7.72 1.47 1.35L5.41 20z\"/>\n",
              "  </svg>\n",
              "      </button>\n",
              "\n",
              "\n",
              "\n",
              "    <div id=\"df-b86d545d-299a-457e-9cd3-0d84699930b7\">\n",
              "      <button class=\"colab-df-quickchart\" onclick=\"quickchart('df-b86d545d-299a-457e-9cd3-0d84699930b7')\"\n",
              "              title=\"Suggest charts.\"\n",
              "              style=\"display:none;\">\n",
              "\n",
              "<svg xmlns=\"http://www.w3.org/2000/svg\" height=\"24px\"viewBox=\"0 0 24 24\"\n",
              "     width=\"24px\">\n",
              "    <g>\n",
              "        <path d=\"M19 3H5c-1.1 0-2 .9-2 2v14c0 1.1.9 2 2 2h14c1.1 0 2-.9 2-2V5c0-1.1-.9-2-2-2zM9 17H7v-7h2v7zm4 0h-2V7h2v10zm4 0h-2v-4h2v4z\"/>\n",
              "    </g>\n",
              "</svg>\n",
              "      </button>\n",
              "    </div>\n",
              "\n",
              "<style>\n",
              "  .colab-df-quickchart {\n",
              "    background-color: #E8F0FE;\n",
              "    border: none;\n",
              "    border-radius: 50%;\n",
              "    cursor: pointer;\n",
              "    display: none;\n",
              "    fill: #1967D2;\n",
              "    height: 32px;\n",
              "    padding: 0 0 0 0;\n",
              "    width: 32px;\n",
              "  }\n",
              "\n",
              "  .colab-df-quickchart:hover {\n",
              "    background-color: #E2EBFA;\n",
              "    box-shadow: 0px 1px 2px rgba(60, 64, 67, 0.3), 0px 1px 3px 1px rgba(60, 64, 67, 0.15);\n",
              "    fill: #174EA6;\n",
              "  }\n",
              "\n",
              "  [theme=dark] .colab-df-quickchart {\n",
              "    background-color: #3B4455;\n",
              "    fill: #D2E3FC;\n",
              "  }\n",
              "\n",
              "  [theme=dark] .colab-df-quickchart:hover {\n",
              "    background-color: #434B5C;\n",
              "    box-shadow: 0px 1px 3px 1px rgba(0, 0, 0, 0.15);\n",
              "    filter: drop-shadow(0px 1px 2px rgba(0, 0, 0, 0.3));\n",
              "    fill: #FFFFFF;\n",
              "  }\n",
              "</style>\n",
              "\n",
              "    <script>\n",
              "      async function quickchart(key) {\n",
              "        const containerElement = document.querySelector('#' + key);\n",
              "        const charts = await google.colab.kernel.invokeFunction(\n",
              "            'suggestCharts', [key], {});\n",
              "      }\n",
              "    </script>\n",
              "\n",
              "      <script>\n",
              "\n",
              "function displayQuickchartButton(domScope) {\n",
              "  let quickchartButtonEl =\n",
              "    domScope.querySelector('#df-b86d545d-299a-457e-9cd3-0d84699930b7 button.colab-df-quickchart');\n",
              "  quickchartButtonEl.style.display =\n",
              "    google.colab.kernel.accessAllowed ? 'block' : 'none';\n",
              "}\n",
              "\n",
              "        displayQuickchartButton(document);\n",
              "      </script>\n",
              "      <style>\n",
              "    .colab-df-container {\n",
              "      display:flex;\n",
              "      flex-wrap:wrap;\n",
              "      gap: 12px;\n",
              "    }\n",
              "\n",
              "    .colab-df-convert {\n",
              "      background-color: #E8F0FE;\n",
              "      border: none;\n",
              "      border-radius: 50%;\n",
              "      cursor: pointer;\n",
              "      display: none;\n",
              "      fill: #1967D2;\n",
              "      height: 32px;\n",
              "      padding: 0 0 0 0;\n",
              "      width: 32px;\n",
              "    }\n",
              "\n",
              "    .colab-df-convert:hover {\n",
              "      background-color: #E2EBFA;\n",
              "      box-shadow: 0px 1px 2px rgba(60, 64, 67, 0.3), 0px 1px 3px 1px rgba(60, 64, 67, 0.15);\n",
              "      fill: #174EA6;\n",
              "    }\n",
              "\n",
              "    [theme=dark] .colab-df-convert {\n",
              "      background-color: #3B4455;\n",
              "      fill: #D2E3FC;\n",
              "    }\n",
              "\n",
              "    [theme=dark] .colab-df-convert:hover {\n",
              "      background-color: #434B5C;\n",
              "      box-shadow: 0px 1px 3px 1px rgba(0, 0, 0, 0.15);\n",
              "      filter: drop-shadow(0px 1px 2px rgba(0, 0, 0, 0.3));\n",
              "      fill: #FFFFFF;\n",
              "    }\n",
              "  </style>\n",
              "\n",
              "      <script>\n",
              "        const buttonEl =\n",
              "          document.querySelector('#df-e4a76d77-c81b-45fd-96e9-459257d25da0 button.colab-df-convert');\n",
              "        buttonEl.style.display =\n",
              "          google.colab.kernel.accessAllowed ? 'block' : 'none';\n",
              "\n",
              "        async function convertToInteractive(key) {\n",
              "          const element = document.querySelector('#df-e4a76d77-c81b-45fd-96e9-459257d25da0');\n",
              "          const dataTable =\n",
              "            await google.colab.kernel.invokeFunction('convertToInteractive',\n",
              "                                                     [key], {});\n",
              "          if (!dataTable) return;\n",
              "\n",
              "          const docLinkHtml = 'Like what you see? Visit the ' +\n",
              "            '<a target=\"_blank\" href=https://colab.research.google.com/notebooks/data_table.ipynb>data table notebook</a>'\n",
              "            + ' to learn more about interactive tables.';\n",
              "          element.innerHTML = '';\n",
              "          dataTable['output_type'] = 'display_data';\n",
              "          await google.colab.output.renderOutput(dataTable, element);\n",
              "          const docLink = document.createElement('div');\n",
              "          docLink.innerHTML = docLinkHtml;\n",
              "          element.appendChild(docLink);\n",
              "        }\n",
              "      </script>\n",
              "    </div>\n",
              "  </div>\n"
            ]
          },
          "metadata": {},
          "execution_count": 1
        }
      ],
      "source": [
        "import pandas as pd\n",
        "\n",
        "fish = pd.read_csv('https://bit.ly/fish_csv_data')\n",
        "fish.head()"
      ]
    },
    {
      "cell_type": "code",
      "execution_count": null,
      "metadata": {
        "colab": {
          "base_uri": "https://localhost:8080/"
        },
        "id": "UWJWlRCHVWUg",
        "outputId": "3ce7ab01-0ab1-45eb-ddce-c0a7378f5220"
      },
      "outputs": [
        {
          "output_type": "stream",
          "name": "stdout",
          "text": [
            "['Bream' 'Roach' 'Whitefish' 'Parkki' 'Perch' 'Pike' 'Smelt']\n"
          ]
        }
      ],
      "source": [
        "print(pd.unique(fish['Species']))"
      ]
    },
    {
      "cell_type": "code",
      "execution_count": null,
      "metadata": {
        "id": "8JjMXc9wVE7C"
      },
      "outputs": [],
      "source": [
        "fish_input = fish[['Weight','Length','Diagonal','Height','Width']].to_numpy()"
      ]
    },
    {
      "cell_type": "code",
      "execution_count": null,
      "metadata": {
        "colab": {
          "base_uri": "https://localhost:8080/"
        },
        "id": "1T6C1d5iMzb8",
        "outputId": "fbe78230-14cd-4327-da8f-377e72774930",
        "scrolled": true
      },
      "outputs": [
        {
          "output_type": "stream",
          "name": "stdout",
          "text": [
            "[[242.      25.4     30.      11.52     4.02  ]\n",
            " [290.      26.3     31.2     12.48     4.3056]\n",
            " [340.      26.5     31.1     12.3778   4.6961]\n",
            " [363.      29.      33.5     12.73     4.4555]\n",
            " [430.      29.      34.      12.444    5.134 ]]\n"
          ]
        }
      ],
      "source": [
        "print(fish_input[:5])"
      ]
    },
    {
      "cell_type": "code",
      "execution_count": null,
      "metadata": {
        "id": "aB2oHhojTfWE"
      },
      "outputs": [],
      "source": [
        "fish_target = fish['Species'].to_numpy()"
      ]
    },
    {
      "cell_type": "code",
      "execution_count": null,
      "metadata": {
        "id": "dkllezAJW63K"
      },
      "outputs": [],
      "source": [
        "from sklearn.model_selection import train_test_split\n",
        "\n",
        "train_input, test_input, train_target, test_target = train_test_split(\n",
        "    fish_input, fish_target, random_state=42)"
      ]
    },
    {
      "cell_type": "code",
      "execution_count": null,
      "metadata": {
        "id": "H0ujq0BjXpfp"
      },
      "outputs": [],
      "source": [
        "from sklearn.preprocessing import StandardScaler\n",
        "\n",
        "ss = StandardScaler()\n",
        "ss.fit(train_input)\n",
        "train_scaled = ss.transform(train_input)\n",
        "test_scaled = ss.transform(test_input)"
      ]
    },
    {
      "cell_type": "markdown",
      "metadata": {
        "id": "oAxk-V5kQcgc"
      },
      "source": [
        "### k-최근접 이웃 분류기의 확률 예측"
      ]
    },
    {
      "cell_type": "code",
      "execution_count": null,
      "metadata": {
        "colab": {
          "base_uri": "https://localhost:8080/"
        },
        "id": "BYWTNPOdXOfr",
        "outputId": "4cd37f3b-5241-447a-a9f2-5ccfa71218b0"
      },
      "outputs": [
        {
          "output_type": "stream",
          "name": "stdout",
          "text": [
            "0.8907563025210085\n",
            "0.85\n"
          ]
        }
      ],
      "source": [
        "from sklearn.neighbors import KNeighborsClassifier\n",
        "\n",
        "kn = KNeighborsClassifier(n_neighbors=3)\n",
        "kn.fit(train_scaled, train_target)\n",
        "\n",
        "print(kn.score(train_scaled, train_target))\n",
        "print(kn.score(test_scaled, test_target))"
      ]
    },
    {
      "cell_type": "code",
      "execution_count": null,
      "metadata": {
        "colab": {
          "base_uri": "https://localhost:8080/"
        },
        "id": "a879-O42RhFO",
        "outputId": "d7fffbf6-fb8d-420e-8000-56ad09c65c91"
      },
      "outputs": [
        {
          "output_type": "stream",
          "name": "stdout",
          "text": [
            "['Bream' 'Parkki' 'Perch' 'Pike' 'Roach' 'Smelt' 'Whitefish']\n"
          ]
        }
      ],
      "source": [
        "print(kn.classes_)"
      ]
    },
    {
      "cell_type": "code",
      "execution_count": null,
      "metadata": {
        "colab": {
          "base_uri": "https://localhost:8080/"
        },
        "id": "EucmtF8HVOS_",
        "outputId": "a803d3da-7663-481d-88ef-24ddea427451"
      },
      "outputs": [
        {
          "output_type": "stream",
          "name": "stdout",
          "text": [
            "['Perch' 'Smelt' 'Pike' 'Perch' 'Perch']\n"
          ]
        }
      ],
      "source": [
        "print(kn.predict(test_scaled[:5]))"
      ]
    },
    {
      "cell_type": "code",
      "execution_count": null,
      "metadata": {
        "colab": {
          "base_uri": "https://localhost:8080/"
        },
        "id": "OSDr8WSKXbUa",
        "outputId": "ecc49bd9-8a45-43b9-a9a2-19329f5c6bb8"
      },
      "outputs": [
        {
          "output_type": "stream",
          "name": "stdout",
          "text": [
            "[[0.     0.     1.     0.     0.     0.     0.    ]\n",
            " [0.     0.     0.     0.     0.     1.     0.    ]\n",
            " [0.     0.     0.     1.     0.     0.     0.    ]\n",
            " [0.     0.     0.6667 0.     0.3333 0.     0.    ]\n",
            " [0.     0.     0.6667 0.     0.3333 0.     0.    ]]\n"
          ]
        }
      ],
      "source": [
        "import numpy as np\n",
        "\n",
        "proba = kn.predict_proba(test_scaled[:5])\n",
        "print(np.round(proba, decimals=4))"
      ]
    },
    {
      "cell_type": "code",
      "execution_count": null,
      "metadata": {
        "colab": {
          "base_uri": "https://localhost:8080/"
        },
        "id": "Hk-ywsfKkf7t",
        "outputId": "51bc04ca-95f0-480f-8558-3fce405c8756"
      },
      "outputs": [
        {
          "output_type": "stream",
          "name": "stdout",
          "text": [
            "[['Roach' 'Perch' 'Perch']]\n"
          ]
        }
      ],
      "source": [
        "distances, indexes = kn.kneighbors(test_scaled[3:4])\n",
        "print(train_target[indexes])"
      ]
    },
    {
      "cell_type": "markdown",
      "metadata": {
        "id": "Q9_wuI_0tEqL"
      },
      "source": [
        "## 로지스틱 회귀"
      ]
    },
    {
      "cell_type": "code",
      "execution_count": null,
      "metadata": {
        "colab": {
          "base_uri": "https://localhost:8080/",
          "height": 449
        },
        "id": "8rdDSaZ5uji2",
        "outputId": "8ea6c0b2-1965-47df-be28-465fdfc493f1"
      },
      "outputs": [
        {
          "output_type": "display_data",
          "data": {
            "text/plain": [
              "<Figure size 640x480 with 1 Axes>"
            ],
            "image/png": "[encoded data removed]"
          },
          "metadata": {}
        }
      ],
      "source": [
        "import numpy as np\n",
        "import matplotlib.pyplot as plt\n",
        "\n",
        "z = np.arange(-5, 5, 0.1)\n",
        "phi = 1 / (1 + np.exp(-z))\n",
        "\n",
        "plt.plot(z, phi)\n",
        "plt.xlabel('z')\n",
        "plt.ylabel('phi')\n",
        "plt.show()"
      ]
    },
    {
      "cell_type": "markdown",
      "metadata": {
        "id": "1J6LGKpUJbFE"
      },
      "source": [
        "### 로지스틱 회귀로 이진 분류 수행하기"
      ]
    },
    {
      "cell_type": "code",
      "execution_count": null,
      "metadata": {
        "colab": {
          "base_uri": "https://localhost:8080/"
        },
        "id": "JeR5cA_fIe24",
        "outputId": "a84389ab-489b-4bac-f99e-1dd86b6a1b1e"
      },
      "outputs": [
        {
          "output_type": "stream",
          "name": "stdout",
          "text": [
            "['A' 'C']\n"
          ]
        }
      ],
      "source": [
        "char_arr = np.array(['A', 'B', 'C', 'D', 'E'])\n",
        "print(char_arr[[True, False, True, False, False]])"
      ]
    },
    {
      "cell_type": "code",
      "execution_count": null,
      "metadata": {
        "id": "Khxh-3t5-2Tk"
      },
      "outputs": [],
      "source": [
        "bream_smelt_indexes = (train_target == 'Bream') | (train_target == 'Smelt')\n",
        "train_bream_smelt = train_scaled[bream_smelt_indexes]\n",
        "target_bream_smelt = train_target[bream_smelt_indexes]"
      ]
    },
    {
      "cell_type": "code",
      "execution_count": null,
      "metadata": {
        "colab": {
          "base_uri": "https://localhost:8080/",
          "height": 75
        },
        "id": "jEzP0aeXANra",
        "outputId": "0d636b60-eda6-4ead-c2e2-162dc1c97b06"
      },
      "outputs": [
        {
          "output_type": "execute_result",
          "data": {
            "text/plain": [
              "LogisticRegression()"
            ],
            "text/html": [
              "<style>#sk-container-id-1 {color: black;background-color: white;}#sk-container-id-1 pre{padding: 0;}#sk-container-id-1 div.sk-toggleable {background-color: white;}#sk-container-id-1 label.sk-toggleable__label {cursor: pointer;display: block;width: 100%;margin-bottom: 0;padding: 0.3em;box-sizing: border-box;text-align: center;}#sk-container-id-1 label.sk-toggleable__label-arrow:before {content: \"▸\";float: left;margin-right: 0.25em;color: #696969;}#sk-container-id-1 label.sk-toggleable__label-arrow:hover:before {color: black;}#sk-container-id-1 div.sk-estimator:hover label.sk-toggleable__label-arrow:before {color: black;}#sk-container-id-1 div.sk-toggleable__content {max-height: 0;max-width: 0;overflow: hidden;text-align: left;background-color: #f0f8ff;}#sk-container-id-1 div.sk-toggleable__content pre {margin: 0.2em;color: black;border-radius: 0.25em;background-color: #f0f8ff;}#sk-container-id-1 input.sk-toggleable__control:checked~div.sk-toggleable__content {max-height: 200px;max-width: 100%;overflow: auto;}#sk-container-id-1 input.sk-toggleable__control:checked~label.sk-toggleable__label-arrow:before {content: \"▾\";}#sk-container-id-1 div.sk-estimator input.sk-toggleable__control:checked~label.sk-toggleable__label {background-color: #d4ebff;}#sk-container-id-1 div.sk-label input.sk-toggleable__control:checked~label.sk-toggleable__label {background-color: #d4ebff;}#sk-container-id-1 input.sk-hidden--visually {border: 0;clip: rect(1px 1px 1px 1px);clip: rect(1px, 1px, 1px, 1px);height: 1px;margin: -1px;overflow: hidden;padding: 0;position: absolute;width: 1px;}#sk-container-id-1 div.sk-estimator {font-family: monospace;background-color: #f0f8ff;border: 1px dotted black;border-radius: 0.25em;box-sizing: border-box;margin-bottom: 0.5em;}#sk-container-id-1 div.sk-estimator:hover {background-color: #d4ebff;}#sk-container-id-1 div.sk-parallel-item::after {content: \"\";width: 100%;border-bottom: 1px solid gray;flex-grow: 1;}#sk-container-id-1 div.sk-label:hover label.sk-toggleable__label {background-color: #d4ebff;}#sk-container-id-1 div.sk-serial::before {content: \"\";position: absolute;border-left: 1px solid gray;box-sizing: border-box;top: 0;bottom: 0;left: 50%;z-index: 0;}#sk-container-id-1 div.sk-serial {display: flex;flex-direction: column;align-items: center;background-color: white;padding-right: 0.2em;padding-left: 0.2em;position: relative;}#sk-container-id-1 div.sk-item {position: relative;z-index: 1;}#sk-container-id-1 div.sk-parallel {display: flex;align-items: stretch;justify-content: center;background-color: white;position: relative;}#sk-container-id-1 div.sk-item::before, #sk-container-id-1 div.sk-parallel-item::before {content: \"\";position: absolute;border-left: 1px solid gray;box-sizing: border-box;top: 0;bottom: 0;left: 50%;z-index: -1;}#sk-container-id-1 div.sk-parallel-item {display: flex;flex-direction: column;z-index: 1;position: relative;background-color: white;}#sk-container-id-1 div.sk-parallel-item:first-child::after {align-self: flex-end;width: 50%;}#sk-container-id-1 div.sk-parallel-item:last-child::after {align-self: flex-start;width: 50%;}#sk-container-id-1 div.sk-parallel-item:only-child::after {width: 0;}#sk-container-id-1 div.sk-dashed-wrapped {border: 1px dashed gray;margin: 0 0.4em 0.5em 0.4em;box-sizing: border-box;padding-bottom: 0.4em;background-color: white;}#sk-container-id-1 div.sk-label label {font-family: monospace;font-weight: bold;display: inline-block;line-height: 1.2em;}#sk-container-id-1 div.sk-label-container {text-align: center;}#sk-container-id-1 div.sk-container {/* jupyter's `normalize.less` sets `[hidden] { display: none; }` but bootstrap.min.css set `[hidden] { display: none !important; }` so we also need the `!important` here to be able to override the default hidden behavior on the sphinx rendered scikit-learn.org. See: https://github.com/scikit-learn/scikit-learn/issues/21755 */display: inline-block !important;position: relative;}#sk-container-id-1 div.sk-text-repr-fallback {display: none;}</style><div id=\"sk-container-id-1\" class=\"sk-top-container\"><div class=\"sk-text-repr-fallback\"><pre>LogisticRegression()</pre><b>In a Jupyter environment, please rerun this cell to show the HTML representation or trust the notebook. <br />On GitHub, the HTML representation is unable to render, please try loading this page with nbviewer.org.</b></div><div class=\"sk-container\" hidden><div class=\"sk-item\"><div class=\"sk-estimator sk-toggleable\"><input class=\"sk-toggleable__control sk-hidden--visually\" id=\"sk-estimator-id-1\" type=\"checkbox\" checked><label for=\"sk-estimator-id-1\" class=\"sk-toggleable__label sk-toggleable__label-arrow\">LogisticRegression</label><div class=\"sk-toggleable__content\"><pre>LogisticRegression()</pre></div></div></div></div></div>"
            ]
          },
          "metadata": {},
          "execution_count": 16
        }
      ],
      "source": [
        "from sklearn.linear_model import LogisticRegression\n",
        "\n",
        "lr = LogisticRegression()\n",
        "lr.fit(train_bream_smelt, target_bream_smelt)"
      ]
    },
    {
      "cell_type": "code",
      "execution_count": null,
      "metadata": {
        "colab": {
          "base_uri": "https://localhost:8080/"
        },
        "id": "VtEWtsB7EIgm",
        "outputId": "6c374a95-a9f2-4983-faba-beb8aaf4c58e"
      },
      "outputs": [
        {
          "output_type": "stream",
          "name": "stdout",
          "text": [
            "['Bream' 'Smelt' 'Bream' 'Bream' 'Bream']\n"
          ]
        }
      ],
      "source": [
        "print(lr.predict(train_bream_smelt[:5]))"
      ]
    },
    {
      "cell_type": "code",
      "execution_count": null,
      "metadata": {
        "colab": {
          "base_uri": "https://localhost:8080/"
        },
        "id": "3H_qieV-_CTt",
        "outputId": "f38633e8-1b98-4b17-f86b-95685099e372"
      },
      "outputs": [
        {
          "output_type": "stream",
          "name": "stdout",
          "text": [
            "[[0.99759855 0.00240145]\n",
            " [0.02735183 0.97264817]\n",
            " [0.99486072 0.00513928]\n",
            " [0.98584202 0.01415798]\n",
            " [0.99767269 0.00232731]]\n"
          ]
        }
      ],
      "source": [
        "print(lr.predict_proba(train_bream_smelt[:5]))"
      ]
    },
    {
      "cell_type": "code",
      "execution_count": null,
      "metadata": {
        "colab": {
          "base_uri": "https://localhost:8080/"
        },
        "id": "Mm60bpr7EQKU",
        "outputId": "1f439ee9-e3a5-44ff-a0b3-1462670728fb"
      },
      "outputs": [
        {
          "output_type": "stream",
          "name": "stdout",
          "text": [
            "['Bream' 'Smelt']\n"
          ]
        }
      ],
      "source": [
        "print(lr.classes_)"
      ]
    },
    {
      "cell_type": "code",
      "execution_count": null,
      "metadata": {
        "colab": {
          "base_uri": "https://localhost:8080/"
        },
        "id": "1mvoYhUVQmFY",
        "outputId": "a8eee751-d8f9-47d7-a890-0cb480ba03c2"
      },
      "outputs": [
        {
          "output_type": "stream",
          "name": "stdout",
          "text": [
            "[[-0.4037798  -0.57620209 -0.66280298 -1.01290277 -0.73168947]] [-2.16155132]\n"
          ]
        }
      ],
      "source": [
        "print(lr.coef_, lr.intercept_)"
      ]
    },
    {
      "cell_type": "code",
      "execution_count": null,
      "metadata": {
        "colab": {
          "base_uri": "https://localhost:8080/"
        },
        "id": "SxrRy9m8A5Hy",
        "outputId": "a092eee9-5329-4de9-ee2a-65c2782e36ce"
      },
      "outputs": [
        {
          "output_type": "stream",
          "name": "stdout",
          "text": [
            "[-6.02927744  3.57123907 -5.26568906 -4.24321775 -6.0607117 ]\n"
          ]
        }
      ],
      "source": [
        "decisions = lr.decision_function(train_bream_smelt[:5])\n",
        "print(decisions)"
      ]
    },
    {
      "cell_type": "code",
      "execution_count": null,
      "metadata": {
        "colab": {
          "base_uri": "https://localhost:8080/"
        },
        "id": "SeuhSRuiA9yZ",
        "outputId": "f9127243-4293-4dca-b0c6-4f81af5d0fe1"
      },
      "outputs": [
        {
          "output_type": "stream",
          "name": "stdout",
          "text": [
            "[0.00240145 0.97264817 0.00513928 0.01415798 0.00232731]\n"
          ]
        }
      ],
      "source": [
        "from scipy.special import expit\n",
        "\n",
        "print(expit(decisions))"
      ]
    },
    {
      "cell_type": "markdown",
      "metadata": {
        "id": "6ee-s4l7EuVo"
      },
      "source": [
        "### 로지스틱 회귀로 다중 분류 수행하기"
      ]
    },
    {
      "cell_type": "code",
      "execution_count": null,
      "metadata": {
        "colab": {
          "base_uri": "https://localhost:8080/"
        },
        "id": "7QugsbD2X8bf",
        "outputId": "1b5f1118-3b3a-43a6-b7d5-a5826475c001"
      },
      "outputs": [
        {
          "output_type": "stream",
          "name": "stdout",
          "text": [
            "0.9327731092436975\n",
            "0.925\n"
          ]
        }
      ],
      "source": [
        "lr = LogisticRegression(C=20, max_iter=1000)\n",
        "lr.fit(train_scaled, train_target)\n",
        "\n",
        "print(lr.score(train_scaled, train_target))\n",
        "print(lr.score(test_scaled, test_target))"
      ]
    },
    {
      "cell_type": "code",
      "execution_count": null,
      "metadata": {
        "colab": {
          "base_uri": "https://localhost:8080/"
        },
        "id": "0taO0XnF9dha",
        "outputId": "e13af0b2-9a8f-4703-92f5-420bae40bc42"
      },
      "outputs": [
        {
          "output_type": "stream",
          "name": "stdout",
          "text": [
            "['Perch' 'Smelt' 'Pike' 'Roach' 'Perch']\n"
          ]
        }
      ],
      "source": [
        "print(lr.predict(test_scaled[:5]))"
      ]
    },
    {
      "cell_type": "code",
      "execution_count": null,
      "metadata": {
        "colab": {
          "base_uri": "https://localhost:8080/"
        },
        "id": "pqZosYezZOi3",
        "outputId": "366bf3bc-5df7-4056-de6a-838320bc7cb7"
      },
      "outputs": [
        {
          "output_type": "stream",
          "name": "stdout",
          "text": [
            "[[0.    0.014 0.841 0.    0.136 0.007 0.003]\n",
            " [0.    0.003 0.044 0.    0.007 0.946 0.   ]\n",
            " [0.    0.    0.034 0.935 0.015 0.016 0.   ]\n",
            " [0.011 0.034 0.306 0.007 0.567 0.    0.076]\n",
            " [0.    0.    0.904 0.002 0.089 0.002 0.001]]\n"
          ]
        }
      ],
      "source": [
        "proba = lr.predict_proba(test_scaled[:5])\n",
        "print(np.round(proba, decimals=3))"
      ]
    },
    {
      "cell_type": "code",
      "execution_count": null,
      "metadata": {
        "colab": {
          "base_uri": "https://localhost:8080/"
        },
        "id": "CXASv4WU87UF",
        "outputId": "6f8b2061-88b0-4cd9-9f11-cd907919ef24"
      },
      "outputs": [
        {
          "output_type": "stream",
          "name": "stdout",
          "text": [
            "['Bream' 'Parkki' 'Perch' 'Pike' 'Roach' 'Smelt' 'Whitefish']\n"
          ]
        }
      ],
      "source": [
        "print(lr.classes_)"
      ]
    },
    {
      "cell_type": "code",
      "execution_count": null,
      "metadata": {
        "colab": {
          "base_uri": "https://localhost:8080/"
        },
        "id": "1swPv6ZOZTjg",
        "outputId": "c52ceba6-b8ab-4f90-ecd6-38ebb6acbbef"
      },
      "outputs": [
        {
          "output_type": "stream",
          "name": "stdout",
          "text": [
            "(7, 5) (7,)\n"
          ]
        }
      ],
      "source": [
        "print(lr.coef_.shape, lr.intercept_.shape)"
      ]
    },
    {
      "cell_type": "code",
      "execution_count": null,
      "metadata": {
        "colab": {
          "base_uri": "https://localhost:8080/"
        },
        "id": "s9iRz1iAd7Oe",
        "outputId": "07f4b83c-1211-45eb-f698-28a381388c57"
      },
      "outputs": [
        {
          "output_type": "stream",
          "name": "stdout",
          "text": [
            "[[ -6.5    1.03   5.16  -2.73   3.34   0.33  -0.63]\n",
            " [-10.86   1.93   4.77  -2.4    2.98   7.84  -4.26]\n",
            " [ -4.34  -6.23   3.17   6.49   2.36   2.42  -3.87]\n",
            " [ -0.68   0.45   2.65  -1.19   3.26  -5.75   1.26]\n",
            " [ -6.4   -1.99   5.82  -0.11   3.5   -0.11  -0.71]]\n"
          ]
        }
      ],
      "source": [
        "decision = lr.decision_function(test_scaled[:5])\n",
        "print(np.round(decision, decimals=2))"
      ]
    },
    {
      "cell_type": "code",
      "execution_count": null,
      "metadata": {
        "colab": {
          "base_uri": "https://localhost:8080/"
        },
        "id": "49CcsDHZeJma",
        "outputId": "53f704df-743d-45ad-e76e-6729cecfbb03"
      },
      "outputs": [
        {
          "output_type": "stream",
          "name": "stdout",
          "text": [
            "[[0.    0.014 0.841 0.    0.136 0.007 0.003]\n",
            " [0.    0.003 0.044 0.    0.007 0.946 0.   ]\n",
            " [0.    0.    0.034 0.935 0.015 0.016 0.   ]\n",
            " [0.011 0.034 0.306 0.007 0.567 0.    0.076]\n",
            " [0.    0.    0.904 0.002 0.089 0.002 0.001]]\n"
          ]
        }
      ],
      "source": [
        "from scipy.special import softmax\n",
        "\n",
        "proba = softmax(decision, axis=1)\n",
        "print(np.round(proba, decimals=3))"
      ]
    }
  ],
  "metadata": {
    "colab": {
      "provenance": [],
      "include_colab_link": true
    },
    "kernelspec": {
      "display_name": "default:Python",
      "language": "python",
      "name": "conda-env-default-py"
    },
    "language_info": {
      "codemirror_mode": {
        "name": "ipython",
        "version": 3
      },
      "file_extension": ".py",
      "mimetype": "text/x-python",
      "name": "python",
      "nbconvert_exporter": "python",
      "pygments_lexer": "ipython3",
      "version": "3.9.10"
    }
  },
  "nbformat": 4,
  "nbformat_minor": 0
}